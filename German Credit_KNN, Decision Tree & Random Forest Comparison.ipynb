{
 "cells": [
  {
   "cell_type": "code",
   "execution_count": 46,
   "id": "fd0bba44",
   "metadata": {},
   "outputs": [],
   "source": [
    "# This file contains a comparison between KNN, Decision Tree and Random Forest Classifier Algorithms, applied on German Credit Dataset\n",
    "# to predict if a loan is good or bad. It also highlights which algorithm gives a better prediction based on accuracy scores.\n",
    "\n",
    "# Import packages\n",
    "import numpy as np\n",
    "import pandas as pd\n",
    "import seaborn as sns\n",
    "from matplotlib import pyplot as plt\n",
    "from sklearn.neighbors import KNeighborsClassifier\n",
    "from sklearn.tree import DecisionTreeClassifier\n",
    "from sklearn.ensemble import RandomForestRegressor\n",
    "from sklearn.ensemble import RandomForestClassifier\n",
    "from sklearn import metrics\n",
    "from sklearn.model_selection import train_test_split\n",
    "from sklearn.metrics import confusion_matrix\n",
    "from sklearn.metrics import accuracy_score\n",
    "from sklearn.metrics import f1_score\n",
    "from sklearn.metrics import classification_report\n",
    "from sklearn.metrics import mean_absolute_error\n",
    "from sklearn.metrics import mean_squared_error\n",
    "\n",
    "# To read CSV data\n",
    "data = pd.read_csv(\"C:/Users/Aditi Arora/Documents/FORE/Trimester 3/MLP/archive/german_credit_data.csv\")"
   ]
  },
  {
   "cell_type": "code",
   "execution_count": 47,
   "id": "c17e4980",
   "metadata": {},
   "outputs": [],
   "source": [
    "# male = 0, female = 1\n",
    "data['Sex'] = data['Sex'].replace({'male':0, 'female':1})\n",
    "# own = 0, free = 1, rent = 2\n",
    "data['Housing'] = data['Housing'].replace({'own':0, 'free':1, 'rent':2})\n",
    "# NA = 0, little = 1, moderate = 2, quite rich = 3, rich = 4\n",
    "data['Saving accounts'] = data['Saving accounts'].replace({'NA':0, 'little':1, 'moderate':2, 'quite rich':3, 'rich':4})\n",
    "# NA = 0, little = 1, moderate = 2, rich = 3\n",
    "data['Checking account'] = data['Checking account'].replace ({'NA':0, 'little':1, 'moderate':2, 'rich':3})\n",
    "# Purpose = 0 to 7\n",
    "data['Purpose'] = data['Purpose'].replace ({'business':0, 'car':1, 'domestic appliances':2, 'education':3, 'furniture/equipment':4, 'radio/TV':5, 'repairs':6, 'vacation/others':7})\n",
    "# bad = 0, good = 1\n",
    "data['Risk'] = data['Risk'].replace({'bad':0, 'good':1})"
   ]
  },
  {
   "cell_type": "code",
   "execution_count": 48,
   "id": "f76b97b8",
   "metadata": {},
   "outputs": [
    {
     "data": {
      "text/html": [
       "<div>\n",
       "<style scoped>\n",
       "    .dataframe tbody tr th:only-of-type {\n",
       "        vertical-align: middle;\n",
       "    }\n",
       "\n",
       "    .dataframe tbody tr th {\n",
       "        vertical-align: top;\n",
       "    }\n",
       "\n",
       "    .dataframe thead th {\n",
       "        text-align: right;\n",
       "    }\n",
       "</style>\n",
       "<table border=\"1\" class=\"dataframe\">\n",
       "  <thead>\n",
       "    <tr style=\"text-align: right;\">\n",
       "      <th></th>\n",
       "      <th>Unnamed: 0</th>\n",
       "      <th>Age</th>\n",
       "      <th>Sex</th>\n",
       "      <th>Job</th>\n",
       "      <th>Housing</th>\n",
       "      <th>Saving accounts</th>\n",
       "      <th>Checking account</th>\n",
       "      <th>Credit amount</th>\n",
       "      <th>Duration</th>\n",
       "      <th>Purpose</th>\n",
       "      <th>Risk</th>\n",
       "    </tr>\n",
       "  </thead>\n",
       "  <tbody>\n",
       "    <tr>\n",
       "      <th>0</th>\n",
       "      <td>0</td>\n",
       "      <td>67</td>\n",
       "      <td>0</td>\n",
       "      <td>2</td>\n",
       "      <td>0</td>\n",
       "      <td>NaN</td>\n",
       "      <td>1.0</td>\n",
       "      <td>1169</td>\n",
       "      <td>6</td>\n",
       "      <td>5</td>\n",
       "      <td>1</td>\n",
       "    </tr>\n",
       "    <tr>\n",
       "      <th>1</th>\n",
       "      <td>1</td>\n",
       "      <td>22</td>\n",
       "      <td>1</td>\n",
       "      <td>2</td>\n",
       "      <td>0</td>\n",
       "      <td>1.0</td>\n",
       "      <td>2.0</td>\n",
       "      <td>5951</td>\n",
       "      <td>48</td>\n",
       "      <td>5</td>\n",
       "      <td>0</td>\n",
       "    </tr>\n",
       "    <tr>\n",
       "      <th>2</th>\n",
       "      <td>2</td>\n",
       "      <td>49</td>\n",
       "      <td>0</td>\n",
       "      <td>1</td>\n",
       "      <td>0</td>\n",
       "      <td>1.0</td>\n",
       "      <td>NaN</td>\n",
       "      <td>2096</td>\n",
       "      <td>12</td>\n",
       "      <td>3</td>\n",
       "      <td>1</td>\n",
       "    </tr>\n",
       "    <tr>\n",
       "      <th>3</th>\n",
       "      <td>3</td>\n",
       "      <td>45</td>\n",
       "      <td>0</td>\n",
       "      <td>2</td>\n",
       "      <td>1</td>\n",
       "      <td>1.0</td>\n",
       "      <td>1.0</td>\n",
       "      <td>7882</td>\n",
       "      <td>42</td>\n",
       "      <td>4</td>\n",
       "      <td>1</td>\n",
       "    </tr>\n",
       "    <tr>\n",
       "      <th>4</th>\n",
       "      <td>4</td>\n",
       "      <td>53</td>\n",
       "      <td>0</td>\n",
       "      <td>2</td>\n",
       "      <td>1</td>\n",
       "      <td>1.0</td>\n",
       "      <td>1.0</td>\n",
       "      <td>4870</td>\n",
       "      <td>24</td>\n",
       "      <td>1</td>\n",
       "      <td>0</td>\n",
       "    </tr>\n",
       "    <tr>\n",
       "      <th>5</th>\n",
       "      <td>5</td>\n",
       "      <td>35</td>\n",
       "      <td>0</td>\n",
       "      <td>1</td>\n",
       "      <td>1</td>\n",
       "      <td>NaN</td>\n",
       "      <td>NaN</td>\n",
       "      <td>9055</td>\n",
       "      <td>36</td>\n",
       "      <td>3</td>\n",
       "      <td>1</td>\n",
       "    </tr>\n",
       "    <tr>\n",
       "      <th>6</th>\n",
       "      <td>6</td>\n",
       "      <td>53</td>\n",
       "      <td>0</td>\n",
       "      <td>2</td>\n",
       "      <td>0</td>\n",
       "      <td>3.0</td>\n",
       "      <td>NaN</td>\n",
       "      <td>2835</td>\n",
       "      <td>24</td>\n",
       "      <td>4</td>\n",
       "      <td>1</td>\n",
       "    </tr>\n",
       "    <tr>\n",
       "      <th>7</th>\n",
       "      <td>7</td>\n",
       "      <td>35</td>\n",
       "      <td>0</td>\n",
       "      <td>3</td>\n",
       "      <td>2</td>\n",
       "      <td>1.0</td>\n",
       "      <td>2.0</td>\n",
       "      <td>6948</td>\n",
       "      <td>36</td>\n",
       "      <td>1</td>\n",
       "      <td>1</td>\n",
       "    </tr>\n",
       "    <tr>\n",
       "      <th>8</th>\n",
       "      <td>8</td>\n",
       "      <td>61</td>\n",
       "      <td>0</td>\n",
       "      <td>1</td>\n",
       "      <td>0</td>\n",
       "      <td>4.0</td>\n",
       "      <td>NaN</td>\n",
       "      <td>3059</td>\n",
       "      <td>12</td>\n",
       "      <td>5</td>\n",
       "      <td>1</td>\n",
       "    </tr>\n",
       "    <tr>\n",
       "      <th>9</th>\n",
       "      <td>9</td>\n",
       "      <td>28</td>\n",
       "      <td>0</td>\n",
       "      <td>3</td>\n",
       "      <td>0</td>\n",
       "      <td>1.0</td>\n",
       "      <td>2.0</td>\n",
       "      <td>5234</td>\n",
       "      <td>30</td>\n",
       "      <td>1</td>\n",
       "      <td>0</td>\n",
       "    </tr>\n",
       "  </tbody>\n",
       "</table>\n",
       "</div>"
      ],
      "text/plain": [
       "   Unnamed: 0  Age  Sex  Job  Housing  Saving accounts  Checking account  \\\n",
       "0           0   67    0    2        0              NaN               1.0   \n",
       "1           1   22    1    2        0              1.0               2.0   \n",
       "2           2   49    0    1        0              1.0               NaN   \n",
       "3           3   45    0    2        1              1.0               1.0   \n",
       "4           4   53    0    2        1              1.0               1.0   \n",
       "5           5   35    0    1        1              NaN               NaN   \n",
       "6           6   53    0    2        0              3.0               NaN   \n",
       "7           7   35    0    3        2              1.0               2.0   \n",
       "8           8   61    0    1        0              4.0               NaN   \n",
       "9           9   28    0    3        0              1.0               2.0   \n",
       "\n",
       "   Credit amount  Duration  Purpose  Risk  \n",
       "0           1169         6        5     1  \n",
       "1           5951        48        5     0  \n",
       "2           2096        12        3     1  \n",
       "3           7882        42        4     1  \n",
       "4           4870        24        1     0  \n",
       "5           9055        36        3     1  \n",
       "6           2835        24        4     1  \n",
       "7           6948        36        1     1  \n",
       "8           3059        12        5     1  \n",
       "9           5234        30        1     0  "
      ]
     },
     "execution_count": 48,
     "metadata": {},
     "output_type": "execute_result"
    }
   ],
   "source": [
    "# Preview data\n",
    "data.head(10)"
   ]
  },
  {
   "cell_type": "code",
   "execution_count": 49,
   "id": "0bfb225d",
   "metadata": {},
   "outputs": [],
   "source": [
    "# Adjustments to missing values\n",
    "train_data = data.copy()\n",
    "train_data['Saving accounts'].fillna(train_data['Saving accounts'].value_counts().idxmax(), inplace=True)\n",
    "train_data['Checking account'].fillna(train_data['Checking account'].value_counts().idxmax(), inplace=True)"
   ]
  },
  {
   "cell_type": "code",
   "execution_count": 50,
   "id": "edd46408",
   "metadata": {},
   "outputs": [
    {
     "data": {
      "text/html": [
       "<div>\n",
       "<style scoped>\n",
       "    .dataframe tbody tr th:only-of-type {\n",
       "        vertical-align: middle;\n",
       "    }\n",
       "\n",
       "    .dataframe tbody tr th {\n",
       "        vertical-align: top;\n",
       "    }\n",
       "\n",
       "    .dataframe thead th {\n",
       "        text-align: right;\n",
       "    }\n",
       "</style>\n",
       "<table border=\"1\" class=\"dataframe\">\n",
       "  <thead>\n",
       "    <tr style=\"text-align: right;\">\n",
       "      <th></th>\n",
       "      <th>Unnamed: 0</th>\n",
       "      <th>Age</th>\n",
       "      <th>Sex</th>\n",
       "      <th>Job</th>\n",
       "      <th>Housing</th>\n",
       "      <th>Saving accounts</th>\n",
       "      <th>Checking account</th>\n",
       "      <th>Credit amount</th>\n",
       "      <th>Duration</th>\n",
       "      <th>Purpose</th>\n",
       "      <th>Risk</th>\n",
       "    </tr>\n",
       "  </thead>\n",
       "  <tbody>\n",
       "    <tr>\n",
       "      <th>0</th>\n",
       "      <td>0</td>\n",
       "      <td>67</td>\n",
       "      <td>0</td>\n",
       "      <td>2</td>\n",
       "      <td>0</td>\n",
       "      <td>1.0</td>\n",
       "      <td>1.0</td>\n",
       "      <td>1169</td>\n",
       "      <td>6</td>\n",
       "      <td>5</td>\n",
       "      <td>1</td>\n",
       "    </tr>\n",
       "    <tr>\n",
       "      <th>1</th>\n",
       "      <td>1</td>\n",
       "      <td>22</td>\n",
       "      <td>1</td>\n",
       "      <td>2</td>\n",
       "      <td>0</td>\n",
       "      <td>1.0</td>\n",
       "      <td>2.0</td>\n",
       "      <td>5951</td>\n",
       "      <td>48</td>\n",
       "      <td>5</td>\n",
       "      <td>0</td>\n",
       "    </tr>\n",
       "    <tr>\n",
       "      <th>2</th>\n",
       "      <td>2</td>\n",
       "      <td>49</td>\n",
       "      <td>0</td>\n",
       "      <td>1</td>\n",
       "      <td>0</td>\n",
       "      <td>1.0</td>\n",
       "      <td>1.0</td>\n",
       "      <td>2096</td>\n",
       "      <td>12</td>\n",
       "      <td>3</td>\n",
       "      <td>1</td>\n",
       "    </tr>\n",
       "    <tr>\n",
       "      <th>3</th>\n",
       "      <td>3</td>\n",
       "      <td>45</td>\n",
       "      <td>0</td>\n",
       "      <td>2</td>\n",
       "      <td>1</td>\n",
       "      <td>1.0</td>\n",
       "      <td>1.0</td>\n",
       "      <td>7882</td>\n",
       "      <td>42</td>\n",
       "      <td>4</td>\n",
       "      <td>1</td>\n",
       "    </tr>\n",
       "    <tr>\n",
       "      <th>4</th>\n",
       "      <td>4</td>\n",
       "      <td>53</td>\n",
       "      <td>0</td>\n",
       "      <td>2</td>\n",
       "      <td>1</td>\n",
       "      <td>1.0</td>\n",
       "      <td>1.0</td>\n",
       "      <td>4870</td>\n",
       "      <td>24</td>\n",
       "      <td>1</td>\n",
       "      <td>0</td>\n",
       "    </tr>\n",
       "    <tr>\n",
       "      <th>5</th>\n",
       "      <td>5</td>\n",
       "      <td>35</td>\n",
       "      <td>0</td>\n",
       "      <td>1</td>\n",
       "      <td>1</td>\n",
       "      <td>1.0</td>\n",
       "      <td>1.0</td>\n",
       "      <td>9055</td>\n",
       "      <td>36</td>\n",
       "      <td>3</td>\n",
       "      <td>1</td>\n",
       "    </tr>\n",
       "    <tr>\n",
       "      <th>6</th>\n",
       "      <td>6</td>\n",
       "      <td>53</td>\n",
       "      <td>0</td>\n",
       "      <td>2</td>\n",
       "      <td>0</td>\n",
       "      <td>3.0</td>\n",
       "      <td>1.0</td>\n",
       "      <td>2835</td>\n",
       "      <td>24</td>\n",
       "      <td>4</td>\n",
       "      <td>1</td>\n",
       "    </tr>\n",
       "    <tr>\n",
       "      <th>7</th>\n",
       "      <td>7</td>\n",
       "      <td>35</td>\n",
       "      <td>0</td>\n",
       "      <td>3</td>\n",
       "      <td>2</td>\n",
       "      <td>1.0</td>\n",
       "      <td>2.0</td>\n",
       "      <td>6948</td>\n",
       "      <td>36</td>\n",
       "      <td>1</td>\n",
       "      <td>1</td>\n",
       "    </tr>\n",
       "    <tr>\n",
       "      <th>8</th>\n",
       "      <td>8</td>\n",
       "      <td>61</td>\n",
       "      <td>0</td>\n",
       "      <td>1</td>\n",
       "      <td>0</td>\n",
       "      <td>4.0</td>\n",
       "      <td>1.0</td>\n",
       "      <td>3059</td>\n",
       "      <td>12</td>\n",
       "      <td>5</td>\n",
       "      <td>1</td>\n",
       "    </tr>\n",
       "    <tr>\n",
       "      <th>9</th>\n",
       "      <td>9</td>\n",
       "      <td>28</td>\n",
       "      <td>0</td>\n",
       "      <td>3</td>\n",
       "      <td>0</td>\n",
       "      <td>1.0</td>\n",
       "      <td>2.0</td>\n",
       "      <td>5234</td>\n",
       "      <td>30</td>\n",
       "      <td>1</td>\n",
       "      <td>0</td>\n",
       "    </tr>\n",
       "  </tbody>\n",
       "</table>\n",
       "</div>"
      ],
      "text/plain": [
       "   Unnamed: 0  Age  Sex  Job  Housing  Saving accounts  Checking account  \\\n",
       "0           0   67    0    2        0              1.0               1.0   \n",
       "1           1   22    1    2        0              1.0               2.0   \n",
       "2           2   49    0    1        0              1.0               1.0   \n",
       "3           3   45    0    2        1              1.0               1.0   \n",
       "4           4   53    0    2        1              1.0               1.0   \n",
       "5           5   35    0    1        1              1.0               1.0   \n",
       "6           6   53    0    2        0              3.0               1.0   \n",
       "7           7   35    0    3        2              1.0               2.0   \n",
       "8           8   61    0    1        0              4.0               1.0   \n",
       "9           9   28    0    3        0              1.0               2.0   \n",
       "\n",
       "   Credit amount  Duration  Purpose  Risk  \n",
       "0           1169         6        5     1  \n",
       "1           5951        48        5     0  \n",
       "2           2096        12        3     1  \n",
       "3           7882        42        4     1  \n",
       "4           4870        24        1     0  \n",
       "5           9055        36        3     1  \n",
       "6           2835        24        4     1  \n",
       "7           6948        36        1     1  \n",
       "8           3059        12        5     1  \n",
       "9           5234        30        1     0  "
      ]
     },
     "execution_count": 50,
     "metadata": {},
     "output_type": "execute_result"
    }
   ],
   "source": [
    "# Preview data\n",
    "train_data.head(10)"
   ]
  },
  {
   "cell_type": "code",
   "execution_count": 51,
   "id": "191f3e42",
   "metadata": {},
   "outputs": [],
   "source": [
    "# KNN Classifier\n",
    "# Separate feature and target\n",
    "X = train_data.iloc[:,1:-1]\n",
    "y = train_data.iloc[:, -1]"
   ]
  },
  {
   "cell_type": "code",
   "execution_count": 52,
   "id": "3c3533ca",
   "metadata": {},
   "outputs": [
    {
     "data": {
      "text/html": [
       "<div>\n",
       "<style scoped>\n",
       "    .dataframe tbody tr th:only-of-type {\n",
       "        vertical-align: middle;\n",
       "    }\n",
       "\n",
       "    .dataframe tbody tr th {\n",
       "        vertical-align: top;\n",
       "    }\n",
       "\n",
       "    .dataframe thead th {\n",
       "        text-align: right;\n",
       "    }\n",
       "</style>\n",
       "<table border=\"1\" class=\"dataframe\">\n",
       "  <thead>\n",
       "    <tr style=\"text-align: right;\">\n",
       "      <th></th>\n",
       "      <th>Age</th>\n",
       "      <th>Sex</th>\n",
       "      <th>Job</th>\n",
       "      <th>Housing</th>\n",
       "      <th>Saving accounts</th>\n",
       "      <th>Checking account</th>\n",
       "      <th>Credit amount</th>\n",
       "      <th>Duration</th>\n",
       "      <th>Purpose</th>\n",
       "    </tr>\n",
       "  </thead>\n",
       "  <tbody>\n",
       "    <tr>\n",
       "      <th>0</th>\n",
       "      <td>67</td>\n",
       "      <td>0</td>\n",
       "      <td>2</td>\n",
       "      <td>0</td>\n",
       "      <td>1.0</td>\n",
       "      <td>1.0</td>\n",
       "      <td>1169</td>\n",
       "      <td>6</td>\n",
       "      <td>5</td>\n",
       "    </tr>\n",
       "    <tr>\n",
       "      <th>1</th>\n",
       "      <td>22</td>\n",
       "      <td>1</td>\n",
       "      <td>2</td>\n",
       "      <td>0</td>\n",
       "      <td>1.0</td>\n",
       "      <td>2.0</td>\n",
       "      <td>5951</td>\n",
       "      <td>48</td>\n",
       "      <td>5</td>\n",
       "    </tr>\n",
       "    <tr>\n",
       "      <th>2</th>\n",
       "      <td>49</td>\n",
       "      <td>0</td>\n",
       "      <td>1</td>\n",
       "      <td>0</td>\n",
       "      <td>1.0</td>\n",
       "      <td>1.0</td>\n",
       "      <td>2096</td>\n",
       "      <td>12</td>\n",
       "      <td>3</td>\n",
       "    </tr>\n",
       "    <tr>\n",
       "      <th>3</th>\n",
       "      <td>45</td>\n",
       "      <td>0</td>\n",
       "      <td>2</td>\n",
       "      <td>1</td>\n",
       "      <td>1.0</td>\n",
       "      <td>1.0</td>\n",
       "      <td>7882</td>\n",
       "      <td>42</td>\n",
       "      <td>4</td>\n",
       "    </tr>\n",
       "    <tr>\n",
       "      <th>4</th>\n",
       "      <td>53</td>\n",
       "      <td>0</td>\n",
       "      <td>2</td>\n",
       "      <td>1</td>\n",
       "      <td>1.0</td>\n",
       "      <td>1.0</td>\n",
       "      <td>4870</td>\n",
       "      <td>24</td>\n",
       "      <td>1</td>\n",
       "    </tr>\n",
       "  </tbody>\n",
       "</table>\n",
       "</div>"
      ],
      "text/plain": [
       "   Age  Sex  Job  Housing  Saving accounts  Checking account  Credit amount  \\\n",
       "0   67    0    2        0              1.0               1.0           1169   \n",
       "1   22    1    2        0              1.0               2.0           5951   \n",
       "2   49    0    1        0              1.0               1.0           2096   \n",
       "3   45    0    2        1              1.0               1.0           7882   \n",
       "4   53    0    2        1              1.0               1.0           4870   \n",
       "\n",
       "   Duration  Purpose  \n",
       "0         6        5  \n",
       "1        48        5  \n",
       "2        12        3  \n",
       "3        42        4  \n",
       "4        24        1  "
      ]
     },
     "execution_count": 52,
     "metadata": {},
     "output_type": "execute_result"
    }
   ],
   "source": [
    "# Split dataset into training set and test set\n",
    "X_train, X_test, y_train, y_test = train_test_split(X, y, test_size = 0.3, random_state = 100)\n",
    "X.head()"
   ]
  },
  {
   "cell_type": "code",
   "execution_count": 53,
   "id": "93936cc2",
   "metadata": {},
   "outputs": [
    {
     "data": {
      "text/plain": [
       "KNeighborsClassifier(n_neighbors=10)"
      ]
     },
     "execution_count": 53,
     "metadata": {},
     "output_type": "execute_result"
    }
   ],
   "source": [
    "knn = KNeighborsClassifier(n_neighbors=10)\n",
    "knn.fit(X_train, y_train)"
   ]
  },
  {
   "cell_type": "code",
   "execution_count": 54,
   "id": "bd0955ce",
   "metadata": {},
   "outputs": [],
   "source": [
    "y_pred = knn.predict(X_test)"
   ]
  },
  {
   "cell_type": "code",
   "execution_count": 55,
   "id": "7910c34e",
   "metadata": {},
   "outputs": [
    {
     "name": "stdout",
     "output_type": "stream",
     "text": [
      "Accuracy is 66.00%\n"
     ]
    }
   ],
   "source": [
    "# Model Accuracy\n",
    "knnAcc = knn.score(X_test, y_test)\n",
    "print(\"Accuracy is %.2f%%\" %(knnAcc*100))"
   ]
  },
  {
   "cell_type": "code",
   "execution_count": 56,
   "id": "74f3229e",
   "metadata": {},
   "outputs": [
    {
     "name": "stdout",
     "output_type": "stream",
     "text": [
      "Enter Applicant's Age: 30\n",
      "Gender? \n",
      "Input 1 for Male and 0 for Female: 1\n",
      "Jobs Done? \n",
      "Input 0, 1, 2 or 3: 2\n",
      "Housing type? \n",
      "Input 0 for Own, 1 for Free and 2 for Rent: 0\n",
      "Savings Account type? \n",
      "Input 1 for Little, 2 for Moderate, 3 for Quite Rich and 4 for Rich: 2\n",
      "Checking Account type? \n",
      "Input 1 for Little, 2 for Moderate, 3 for Rich: 3\n",
      "Enter Credit Amount: 88000\n",
      "Enter Duration: 4\n",
      "Purpose for loan? \n",
      "Input 0 for Business, 1 for Car, 2 for Domestic Appliances, 3 for Education, 4 for Furniture/Equipment, 5 for Radio/TV, 6 for Repairs, 7 for Vacation/Others: 3\n"
     ]
    },
    {
     "data": {
      "text/plain": [
       "['30', '1', '2', '0', '2', '3', '88000', '4', '3']"
      ]
     },
     "execution_count": 56,
     "metadata": {},
     "output_type": "execute_result"
    }
   ],
   "source": [
    "Age = input(\"Enter Applicant's Age: \")\n",
    "Sex = input(\"Gender? \\nInput 1 for Male and 0 for Female: \")\n",
    "Job = input(\"Jobs Done? \\nInput 0, 1, 2 or 3: \")\n",
    "Hou = input (\"Housing type? \\nInput 0 for Own, 1 for Free and 2 for Rent: \")\n",
    "SaveAcc = input (\"Savings Account type? \\nInput 1 for Little, 2 for Moderate, 3 for Quite Rich and 4 for Rich: \")\n",
    "CheAcc = input (\"Checking Account type? \\nInput 1 for Little, 2 for Moderate, 3 for Rich: \")\n",
    "Cred = input(\"Enter Credit Amount: \")\n",
    "Dur = input(\"Enter Duration: \")\n",
    "Pur = input(\"Purpose for loan? \\nInput 0 for Business, 1 for Car, 2 for Domestic Appliances,\"\n",
    "            \" 3 for Education, 4 for Furniture/Equipment, 5 for Radio/TV, 6 for Repairs, 7 for Vacation/Others: \")\n",
    "X_actual_values = [Age, Sex, Job, Hou, SaveAcc, CheAcc, Cred, Dur, Pur]\n",
    "X_actual_values"
   ]
  },
  {
   "cell_type": "code",
   "execution_count": 57,
   "id": "77365909",
   "metadata": {},
   "outputs": [
    {
     "name": "stdout",
     "output_type": "stream",
     "text": [
      "Should the person be given a loan? \n",
      "1 for Yes and 0 for No. \n",
      "As per KNN, the answer is:  [0]\n"
     ]
    }
   ],
   "source": [
    "X_actual_values = np.array(X_actual_values).astype('int16')\n",
    "X_actual_values = X_actual_values.reshape(1,9)\n",
    "X_actual_values = pd.DataFrame(X_actual_values)\n",
    "X_actual_values.columns = (['Age', 'Sex', 'Job', 'Housing', 'Saving accounts',\n",
    "'Checking account', 'Credit amount', 'Duration', 'Purpose'])\n",
    "y_actual_pred = knn.predict(X_actual_values)\n",
    "print('Should the person be given a loan? \\n1 for Yes and 0 for No. \\nAs per KNN, the answer is: ', y_actual_pred)"
   ]
  },
  {
   "cell_type": "code",
   "execution_count": 58,
   "id": "c6b79086",
   "metadata": {},
   "outputs": [],
   "source": [
    "# Decision Tree Classifier\n",
    "# Separate feature and target\n",
    "X = train_data.iloc[:,1:-1]\n",
    "y = train_data.iloc[:, -1]"
   ]
  },
  {
   "cell_type": "code",
   "execution_count": 59,
   "id": "25a62db2",
   "metadata": {},
   "outputs": [],
   "source": [
    "# Split dataset into training set and test set\n",
    "X_train, X_test, y_train, y_test = train_test_split(X, y, test_size = 0.3, random_state = 1) # 70% training and 30% test"
   ]
  },
  {
   "cell_type": "code",
   "execution_count": 60,
   "id": "941e58e9",
   "metadata": {},
   "outputs": [
    {
     "name": "stdout",
     "output_type": "stream",
     "text": [
      "y_pred: \n",
      " [1 0 1 1 1 1 1 0 1 1 1 1 0 1 1 1 1 1 1 0 1 1 1 1 1 1 1 1 1 1 1 1 0 1 1 0 1\n",
      " 1 1 1 1 1 1 0 1 1 1 1 1 1 1 1 1 1 1 1 1 1 1 1 1 1 0 1 1 1 1 1 0 1 1 1 1 1\n",
      " 1 1 1 1 1 1 1 1 1 1 1 0 1 1 1 1 1 1 0 1 1 1 1 0 1 0 1 1 1 1 1 1 1 1 1 1 1\n",
      " 1 1 0 1 1 1 1 1 1 1 1 1 0 1 1 1 1 1 1 1 1 1 1 1 1 1 1 1 1 1 1 1 0 1 1 1 1\n",
      " 1 1 1 1 1 1 1 1 1 1 1 1 1 1 1 1 0 1 1 1 1 1 1 1 1 1 1 1 1 1 1 1 1 1 1 1 1\n",
      " 1 1 1 1 1 1 0 1 1 1 1 1 1 1 1 0 1 1 1 1 1 1 1 1 1 0 0 1 1 1 1 1 1 1 1 1 1\n",
      " 1 1 1 0 1 1 1 1 0 1 1 1 1 1 1 1 1 1 0 1 1 1 1 1 1 1 1 1 1 1 0 1 1 1 1 1 1\n",
      " 1 0 1 1 1 1 1 0 1 1 1 1 1 0 1 1 1 0 1 1 1 1 1 1 0 1 1 1 1 1 1 1 1 1 1 1 1\n",
      " 1 1 1 1]\n",
      "y_test: \n",
      " 507    0\n",
      "818    1\n",
      "452    1\n",
      "368    0\n",
      "242    0\n",
      "      ..\n",
      "459    1\n",
      "415    1\n",
      "61     1\n",
      "347    1\n",
      "349    0\n",
      "Name: Risk, Length: 300, dtype: int64\n"
     ]
    }
   ],
   "source": [
    "# Create Decision Tree classifer object\n",
    "clf = DecisionTreeClassifier(max_depth=4)\n",
    "\n",
    "# Train Decision Tree Classifer\n",
    "clf = clf.fit(X_train, y_train)\n",
    "\n",
    "# Predict the response for test dataset\n",
    "y_pred = clf.predict(X_test)\n",
    "print(\"y_pred: \\n\", y_pred)\n",
    "print(\"y_test: \\n\", y_test)"
   ]
  },
  {
   "cell_type": "code",
   "execution_count": 61,
   "id": "4b9d8199",
   "metadata": {},
   "outputs": [
    {
     "name": "stdout",
     "output_type": "stream",
     "text": [
      "Accuracy is 70.00%\n"
     ]
    }
   ],
   "source": [
    "# Model Accuracy\n",
    "dtAcc = metrics.accuracy_score(y_test, y_pred)\n",
    "print(\"Accuracy is %.2f%%\" %(dtAcc*100))"
   ]
  },
  {
   "cell_type": "code",
   "execution_count": 62,
   "id": "2204ead0",
   "metadata": {},
   "outputs": [
    {
     "name": "stdout",
     "output_type": "stream",
     "text": [
      "Should the person be given a loan? \n",
      "1 for Yes and 0 for No. \n",
      "As per Decision Tree, the answer is:  [1]\n"
     ]
    }
   ],
   "source": [
    "X_actual_values = np.array(X_actual_values).astype('int16')\n",
    "X_actual_values = X_actual_values.reshape(1,9)\n",
    "X_actual_values = pd.DataFrame(X_actual_values)\n",
    "X_actual_values.columns = (['Age', 'Sex', 'Job', 'Housing', 'Saving accounts',\n",
    "'Checking account', 'Credit amount', 'Duration', 'Purpose'])\n",
    "y_actual_pred = clf.predict(X_actual_values)\n",
    "print('Should the person be given a loan? \\n1 for Yes and 0 for No. \\nAs per Decision Tree, the answer is: ', y_actual_pred)"
   ]
  },
  {
   "cell_type": "code",
   "execution_count": 63,
   "id": "55f48e39",
   "metadata": {},
   "outputs": [
    {
     "name": "stdout",
     "output_type": "stream",
     "text": [
      "[[ 13  73]\n",
      " [ 17 197]]\n"
     ]
    }
   ],
   "source": [
    "print(confusion_matrix(y_test, y_pred))"
   ]
  },
  {
   "cell_type": "code",
   "execution_count": 64,
   "id": "99b1f013",
   "metadata": {},
   "outputs": [
    {
     "data": {
      "text/plain": [
       "0.8140495867768595"
      ]
     },
     "execution_count": 64,
     "metadata": {},
     "output_type": "execute_result"
    }
   ],
   "source": [
    "f1_score(y_test, y_pred)"
   ]
  },
  {
   "cell_type": "code",
   "execution_count": 65,
   "id": "f31cd908",
   "metadata": {},
   "outputs": [
    {
     "name": "stdout",
     "output_type": "stream",
     "text": [
      "              precision    recall  f1-score   support\n",
      "\n",
      "           0       0.43      0.15      0.22        86\n",
      "           1       0.73      0.92      0.81       214\n",
      "\n",
      "    accuracy                           0.70       300\n",
      "   macro avg       0.58      0.54      0.52       300\n",
      "weighted avg       0.64      0.70      0.64       300\n",
      "\n"
     ]
    }
   ],
   "source": [
    "print(classification_report(y_test, y_pred))"
   ]
  },
  {
   "cell_type": "code",
   "execution_count": 71,
   "id": "67302aed",
   "metadata": {},
   "outputs": [
    {
     "name": "stdout",
     "output_type": "stream",
     "text": [
      "(1000, 9) (1000,)\n",
      "(670, 9) (330, 9) (670,) (330,)\n"
     ]
    }
   ],
   "source": [
    "# Random Forest Classifier\n",
    "# split into inputs and outputs\n",
    "X = train_data.iloc[:,1:-1]\n",
    "y = train_data.iloc[:, -1]\n",
    "print(X.shape, y.shape)\n",
    "# split into train test sets\n",
    "X_train, X_test, y_train, y_test = train_test_split(X, y, test_size=0.33, random_state=1)\n",
    "print(X_train.shape, X_test.shape, y_train.shape, y_test.shape)"
   ]
  },
  {
   "cell_type": "code",
   "execution_count": 72,
   "id": "5b6849b4",
   "metadata": {},
   "outputs": [
    {
     "name": "stdout",
     "output_type": "stream",
     "text": [
      "(330,)\n",
      "(330,)\n",
      "y_pred: \n",
      " [1 0 1 1 0 1 1 1 1 1 1 1 0 1 1 1 1 1 1 1 1 1 1 1 0 1 0 1 1 0 1 1 0 1 1 1 1\n",
      " 1 1 1 1 1 1 0 1 0 1 1 1 1 1 1 0 0 0 0 1 0 1 1 1 1 0 1 1 1 0 1 0 0 1 1 1 1\n",
      " 1 1 1 1 1 1 0 1 1 1 1 0 1 1 0 1 1 1 0 1 1 1 1 1 1 1 1 1 1 1 1 1 1 1 0 1 1\n",
      " 1 1 0 1 1 1 1 1 1 0 1 1 0 1 1 1 1 1 1 1 1 1 1 1 1 1 1 1 1 1 1 1 0 1 1 1 1\n",
      " 1 0 1 0 1 1 1 1 1 1 1 1 1 1 1 1 0 1 1 1 0 1 0 1 1 1 1 1 1 1 1 1 1 1 0 1 1\n",
      " 1 1 1 1 0 1 1 1 1 1 1 1 0 1 1 0 1 1 1 1 1 0 1 1 1 1 0 1 1 1 1 1 1 1 1 1 1\n",
      " 1 1 1 0 1 1 1 1 1 1 0 1 1 1 1 1 1 1 1 1 0 1 1 1 1 1 1 1 1 1 1 1 1 1 1 1 1\n",
      " 1 1 1 1 1 1 1 1 1 0 1 1 1 0 1 1 0 1 0 0 1 0 0 1 0 1 1 1 1 1 1 1 1 0 1 1 1\n",
      " 1 1 1 1 0 1 1 1 1 1 1 0 0 1 1 1 1 1 1 1 1 1 1 1 1 1 1 1 1 1 1 1 0 0]\n",
      "y_test: \n",
      " 507    0\n",
      "818    1\n",
      "452    1\n",
      "368    0\n",
      "242    0\n",
      "      ..\n",
      "817    1\n",
      "495    0\n",
      "66     1\n",
      "403    1\n",
      "563    0\n",
      "Name: Risk, Length: 330, dtype: int64\n"
     ]
    }
   ],
   "source": [
    "# fit the model\n",
    "model = RandomForestClassifier(random_state=1)\n",
    "model.fit(X_train, y_train)\n",
    "# make predictions\n",
    "y_pred = model.predict(X_test)\n",
    "print(y_pred.shape)\n",
    "print(y_test.shape)\n",
    "print(\"y_pred: \\n\", y_pred)\n",
    "print(\"y_test: \\n\", y_test)"
   ]
  },
  {
   "cell_type": "code",
   "execution_count": 73,
   "id": "91bda543",
   "metadata": {},
   "outputs": [
    {
     "name": "stdout",
     "output_type": "stream",
     "text": [
      "MAE: 0.312\n",
      "MSE: 0.312\n"
     ]
    }
   ],
   "source": [
    "# evaluate predictions\n",
    "mae = mean_absolute_error(y_test, y_pred)\n",
    "print('MAE: %.3f' % mae)\n",
    "mse = mean_squared_error(y_test, y_pred)\n",
    "print('MSE: %.3f' % mse)"
   ]
  },
  {
   "cell_type": "code",
   "execution_count": 74,
   "id": "a6d11759",
   "metadata": {},
   "outputs": [
    {
     "name": "stdout",
     "output_type": "stream",
     "text": [
      "[[ 22  70]\n",
      " [ 33 205]]\n",
      "              precision    recall  f1-score   support\n",
      "\n",
      "           0       0.40      0.24      0.30        92\n",
      "           1       0.75      0.86      0.80       238\n",
      "\n",
      "    accuracy                           0.69       330\n",
      "   macro avg       0.57      0.55      0.55       330\n",
      "weighted avg       0.65      0.69      0.66       330\n",
      "\n",
      "Accuracy is 68.79%\n"
     ]
    }
   ],
   "source": [
    "print(confusion_matrix(y_test,y_pred))\n",
    "print(classification_report(y_test,y_pred))\n",
    "rfAcc = accuracy_score(y_test, y_pred)\n",
    "print(\"Accuracy is %.2f%%\" %(rfAcc*100))"
   ]
  },
  {
   "cell_type": "code",
   "execution_count": 75,
   "id": "01825d48",
   "metadata": {},
   "outputs": [
    {
     "name": "stdout",
     "output_type": "stream",
     "text": [
      "Should the person be given a loan? \n",
      "1 for Yes and 0 for No. \n",
      "As per Random Forest, the answer is:  [0]\n"
     ]
    }
   ],
   "source": [
    "X_actual_values = np.array(X_actual_values).astype('int16')\n",
    "X_actual_values = X_actual_values.reshape(1,9)\n",
    "X_actual_values = pd.DataFrame(X_actual_values)\n",
    "X_actual_values.columns = (['Age', 'Sex', 'Job', 'Housing', 'Saving accounts',\n",
    "'Checking account', 'Credit amount', 'Duration', 'Purpose'])\n",
    "y_actual_pred = model.predict(X_actual_values)\n",
    "print('Should the person be given a loan? \\n1 for Yes and 0 for No. \\nAs per Random Forest, the answer is: ', y_actual_pred)"
   ]
  },
  {
   "cell_type": "code",
   "execution_count": 76,
   "id": "90a570a2",
   "metadata": {},
   "outputs": [
    {
     "name": "stdout",
     "output_type": "stream",
     "text": [
      "Decision Tree Classifier is the best with an accuracy score of 70.00%\n"
     ]
    }
   ],
   "source": [
    "# Comparison between KNN, Decision Tree & Random Forest Classifier\n",
    "if(dtAcc >= knnAcc):\n",
    "    if(dtAcc >= rfAcc):\n",
    "        {print('Decision Tree Classifier is the best with an accuracy score of %.2f%%' %(dtAcc*100))}\n",
    "        \n",
    "    else:\n",
    "        {print('Random Forest Classifier is the best with an accuracy score of %.2f%%' %(rfAcc*100))}\n",
    "        \n",
    "else:\n",
    "    if(knnAcc >= rfAcc):\n",
    "        {print('KNN Classifier is the best with an accuracy score of %.2f%%' %(knnAcc*100))}\n",
    "        \n",
    "    else:\n",
    "        {print('Random Forest Classifier is the best with an accuracy score of %.2f%%' %(rfAcc*100))}"
   ]
  }
 ],
 "metadata": {
  "kernelspec": {
   "display_name": "Python 3 (ipykernel)",
   "language": "python",
   "name": "python3"
  },
  "language_info": {
   "codemirror_mode": {
    "name": "ipython",
    "version": 3
   },
   "file_extension": ".py",
   "mimetype": "text/x-python",
   "name": "python",
   "nbconvert_exporter": "python",
   "pygments_lexer": "ipython3",
   "version": "3.10.2"
  }
 },
 "nbformat": 4,
 "nbformat_minor": 5
}
