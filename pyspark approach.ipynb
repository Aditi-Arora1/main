{
 "cells": [
  {
   "cell_type": "markdown",
   "metadata": {},
   "source": [
    "[1.0 Hadoop related questions](#hadoop) Marks: 6 <br>\n",
    "[2.0 Read Data in Spark](#read) Marks 4<br>\n",
    "[3.0 Exploration related questions](#exploration) Marks 25<br>\n",
    "[4.0 Data aggregation and summarisation](#aggregate) Marks 25<br>\n",
    "[5.0 ML  Part-I Questions](#part1) Marks 20<br>\n",
    "[6.0 ML Part--II Questions](#part2) Marks 10<br>\n",
    "[7.0 ML Part--III Questions](#part3) Marks 10<br>"
   ]
  },
  {
   "cell_type": "markdown",
   "metadata": {},
   "source": [
    "## 0.0 Call libraries\n",
    "Just execute this long cell and two others that follow. All needed packages will be called."
   ]
  },
  {
   "cell_type": "code",
   "execution_count": 2,
   "metadata": {},
   "outputs": [],
   "source": [
    "#0.0 Call all requisite libraries\n",
    "# 0.0\n",
    "import numpy as np\n",
    "import pandas as pd\n",
    "\n",
    "# 0.1   For transforming categorical data to integer and to dummy:\n",
    "from pyspark.ml.feature import  StringIndexer, OneHotEncoder\n",
    "\n",
    "# 0.2   For collecting all features at one place\n",
    "#       A feature transformer that merges multiple columns into one vector column.\n",
    "from pyspark.ml.feature import VectorAssembler\n",
    "\n",
    "# 0.3 Scaling dataset and reducing dimesions:\n",
    "from pyspark.ml.feature import StandardScaler, PCA\n",
    "\n",
    "# 0.4   To execute all transformation operations as pipeline:\n",
    "from pyspark.ml import Pipeline\n",
    "\n",
    "# 0.5 Library for regression .\n",
    "from pyspark.ml.regression import RandomForestRegressor\n",
    "\n",
    "# 0.6  Regression & classification evaluators.\n",
    "from pyspark.ml.evaluation import BinaryClassificationEvaluator, RegressionEvaluator\n",
    "\n",
    "# 0.7 \n",
    "from pyspark.sql.functions import *\n",
    "\n",
    "# 0.8 Import plotting libraries\n",
    "import matplotlib.pyplot as plt\n",
    "import seaborn as sns"
   ]
  },
  {
   "cell_type": "code",
   "execution_count": 3,
   "metadata": {},
   "outputs": [],
   "source": [
    "# 0.9 Display multiple command outputs from a cell:\n",
    "\n",
    "from IPython.core.interactiveshell import InteractiveShell\n",
    "InteractiveShell.ast_node_interactivity = \"all\""
   ]
  },
  {
   "cell_type": "code",
   "execution_count": 4,
   "metadata": {},
   "outputs": [
    {
     "name": "stderr",
     "output_type": "stream",
     "text": [
      "/tmp/ipykernel_6396/3664636490.py:3: DeprecationWarning: Importing display from IPython.core.display is deprecated since IPython 7.14, please import from IPython display\n",
      "  from IPython.core.display import display, HTML\n"
     ]
    },
    {
     "data": {
      "text/html": [
       "<style>.container { width:100% !important; }</style>"
      ],
      "text/plain": [
       "<IPython.core.display.HTML object>"
      ]
     },
     "metadata": {},
     "output_type": "display_data"
    }
   ],
   "source": [
    "#0.10 Increase display width of notebook:\n",
    "\n",
    "from IPython.core.display import display, HTML\n",
    "display(HTML(\"<style>.container { width:100% !important; }</style>\"))"
   ]
  },
  {
   "cell_type": "markdown",
   "metadata": {},
   "source": [
    "<a name=\"hadoop\"></a>\n",
    "## 1.0 Hadoop related Questions\n",
    "\n",
    "It is expected that before opening this notebook you have already started hadoop<br>\n",
    "\n",
    "&ensp;&ensp;&ensp;&ensp;&ensp;&ensp;&ensp;&ensp;&ensp;&ensp;&ensp;&ensp;&ensp;&ensp;&ensp;&ensp;&ensp;&ensp;&ensp;&ensp;&ensp;&ensp;&ensp;&ensp;&ensp;&ensp;&ensp;&ensp;&ensp;&ensp;&ensp;&ensp;&ensp;&ensp;&ensp;&ensp;&ensp;&ensp;&ensp;&ensp;&ensp;&ensp;&ensp;&ensp;&ensp;&ensp;&ensp;&ensp;&ensp;&ensp;&ensp;&ensp;&ensp;&ensp;&ensp;&ensp;&ensp;&ensp;&ensp;&ensp;&ensp;&ensp;&ensp;&ensp;&ensp;&ensp;&ensp;&ensp;&ensp;&ensp;&ensp;&ensp;&ensp;&ensp;&ensp;&ensp;&ensp;&ensp;&ensp;&ensp;&ensp;&ensp;&ensp;&ensp;&ensp;&ensp;&ensp;&ensp;&ensp;&ensp;&ensp;&ensp;&ensp;&ensp;&ensp;&ensp;&ensp;&ensp;&ensp;&ensp;&ensp;&ensp;&ensp;&ensp;&ensp;&ensp;&ensp;&ensp;&ensp;&ensp;&ensp;&ensp;&ensp;&ensp;&ensp;&ensp;&ensp;&ensp;&ensp;&ensp;Go to [top](#top)\n"
   ]
  },
  {
   "cell_type": "code",
   "execution_count": 5,
   "metadata": {},
   "outputs": [],
   "source": [
    "#1.1 Make a directory 'creditcard' in hadoop under folder '/user/ashok/data_files/'                (marks 2)\n",
    "#    Full dir location would, then, be '/user/ashok/data_files/creditcard/'\n",
    "! hdfs dfs -mkdir -p hdfs://localhost:9000/home/ashok/Downloads/creditcard"
   ]
  },
  {
   "cell_type": "code",
   "execution_count": 6,
   "metadata": {},
   "outputs": [
    {
     "name": "stdout",
     "output_type": "stream",
     "text": [
      "put: `/home/ashok/Downloads/creditcard/bankchurners.csv': File exists\r\n"
     ]
    }
   ],
   "source": [
    "#1.2 Copy  data file 'bankchurners.csv' from your Downloads                                        (marks 2)\n",
    "#      folder to  hadoop folder: /user/ashok/data_files/creditcard/        \n",
    "! hdfs dfs -put /home/ashok/Downloads/bankchurners.csv /home/ashok/Downloads/creditcard"
   ]
  },
  {
   "cell_type": "code",
   "execution_count": 7,
   "metadata": {},
   "outputs": [
    {
     "name": "stdout",
     "output_type": "stream",
     "text": [
      "Found 1 items\r\n",
      "-rw-r--r--   1 ashok supergroup    1000884 2022-10-11 18:55 /home/ashok/Downloads/creditcard/bankchurners.csv\r\n"
     ]
    }
   ],
   "source": [
    "#1.3 Check if file is copied to hadoop folder  /user/ashok/data_files/creditcard/:                 (marks 2)\n",
    "! hdfs dfs -ls /home/ashok/Downloads/creditcard"
   ]
  },
  {
   "cell_type": "markdown",
   "metadata": {},
   "source": [
    "<a name=\"read\"></a>\n",
    "## 2.0 Read Data in Spark\n",
    "\n",
    "&ensp;&ensp;&ensp;&ensp;&ensp;&ensp;&ensp;&ensp;&ensp;&ensp;&ensp;&ensp;&ensp;&ensp;&ensp;&ensp;&ensp;&ensp;&ensp;&ensp;&ensp;&ensp;&ensp;&ensp;&ensp;&ensp;&ensp;&ensp;&ensp;&ensp;&ensp;&ensp;&ensp;&ensp;&ensp;&ensp;&ensp;&ensp;&ensp;&ensp;&ensp;&ensp;&ensp;&ensp;&ensp;&ensp;&ensp;&ensp;&ensp;&ensp;&ensp;&ensp;&ensp;&ensp;&ensp;&ensp;&ensp;&ensp;&ensp;&ensp;&ensp;&ensp;&ensp;&ensp;&ensp;&ensp;&ensp;&ensp;&ensp;&ensp;&ensp;&ensp;&ensp;&ensp;&ensp;&ensp;&ensp;&ensp;&ensp;&ensp;&ensp;&ensp;&ensp;&ensp;&ensp;&ensp;&ensp;&ensp;&ensp;&ensp;&ensp;&ensp;&ensp;&ensp;&ensp;&ensp;&ensp;&ensp;&ensp;&ensp;&ensp;&ensp;&ensp;&ensp;&ensp;&ensp;&ensp;&ensp;&ensp;&ensp;&ensp;&ensp;&ensp;&ensp;&ensp;&ensp;&ensp;&ensp;&ensp;&ensp;Go to [top](#top)\n"
   ]
  },
  {
   "cell_type": "code",
   "execution_count": 8,
   "metadata": {},
   "outputs": [
    {
     "name": "stderr",
     "output_type": "stream",
     "text": [
      "                                                                                \r"
     ]
    }
   ],
   "source": [
    "#2.1 Read datafile bankchurners.csv into spark.                                                     (marks 2)\n",
    "#   Fill in the values of the requistie parameters/arguments to read the file: \n",
    "df = spark.read.csv(path = '/home/ashok/Downloads/creditcard/bankchurners.csv',\n",
    "                    header = True,\n",
    "                    inferSchema = True\n",
    "                    )"
   ]
  },
  {
   "cell_type": "code",
   "execution_count": 9,
   "metadata": {},
   "outputs": [
    {
     "name": "stdout",
     "output_type": "stream",
     "text": [
      "+---------+---------+---+------+----------+----------+-------------+------+------------+---------+------------+--------------+-----------------+-----------+------------------+------------+-------------+-----------------+----------------+-------------+-----------+\n",
      "|       id|attrition|age|gender|dependents| education|maritalstatus|income|cardcategory|sincewhen|contactcount|monthsinactive|contactcount12mon|creditlimit|balancerecoverable|avgopentobuy|totalamntq4q1|transactionamount|transactioncount|totalctchange|utilization|\n",
      "+---------+---------+---+------+----------+----------+-------------+------+------------+---------+------------+--------------+-----------------+-----------+------------------+------------+-------------+-----------------+----------------+-------------+-----------+\n",
      "|768805383|       no| 45|     m|         3|highSchool|      married|level2|        blue|       39|           5|             1|                3|    12691.0|               777|     11914.0|        1.335|             1144|              42|        1.625|      0.061|\n",
      "|818770008|       no| 49|     f|         5|  graduate|       single|level0|        blue|       44|           6|             1|                2|     8256.0|               864|      7392.0|        1.541|             1291|              33|        3.714|      0.105|\n",
      "|713982108|       no| 51|     m|         3|  graduate|      married|level3|        blue|       36|           4|             1|                0|     3418.0|                 0|      3418.0|        2.594|             1887|              20|        2.333|        0.0|\n",
      "+---------+---------+---+------+----------+----------+-------------+------+------------+---------+------------+--------------+-----------------+-----------+------------------+------------+-------------+-----------------+----------------+-------------+-----------+\n",
      "only showing top 3 rows\n",
      "\n"
     ]
    }
   ],
   "source": [
    "#2.2 Show dataframe, 'df', with just three rows of data:                                            (marks 2)\n",
    "df.show(3)"
   ]
  },
  {
   "cell_type": "markdown",
   "metadata": {},
   "source": [
    "<a name=\"exploration\"></a>\n",
    "## 3.0 Exploration related questions\n",
    "\n",
    "&ensp;&ensp;&ensp;&ensp;&ensp;&ensp;&ensp;&ensp;&ensp;&ensp;&ensp;&ensp;&ensp;&ensp;&ensp;&ensp;&ensp;&ensp;&ensp;&ensp;&ensp;&ensp;&ensp;&ensp;&ensp;&ensp;&ensp;&ensp;&ensp;&ensp;&ensp;&ensp;&ensp;&ensp;&ensp;&ensp;&ensp;&ensp;&ensp;&ensp;&ensp;&ensp;&ensp;&ensp;&ensp;&ensp;&ensp;&ensp;&ensp;&ensp;&ensp;&ensp;&ensp;&ensp;&ensp;&ensp;&ensp;&ensp;&ensp;&ensp;&ensp;&ensp;&ensp;&ensp;&ensp;&ensp;&ensp;&ensp;&ensp;&ensp;&ensp;&ensp;&ensp;&ensp;&ensp;&ensp;&ensp;&ensp;&ensp;&ensp;&ensp;&ensp;&ensp;&ensp;&ensp;&ensp;&ensp;&ensp;&ensp;&ensp;&ensp;&ensp;&ensp;&ensp;&ensp;&ensp;&ensp;&ensp;&ensp;&ensp;&ensp;&ensp;&ensp;&ensp;&ensp;&ensp;&ensp;&ensp;&ensp;&ensp;&ensp;&ensp;&ensp;&ensp;&ensp;&ensp;&ensp;&ensp;&ensp;&ensp;Go to [top](#top)\n",
    "\n"
   ]
  },
  {
   "cell_type": "code",
   "execution_count": 10,
   "metadata": {},
   "outputs": [
    {
     "name": "stdout",
     "output_type": "stream",
     "text": [
      "+---------+---------+---+------+----------+----------+-------------+------+------------+---------+\n",
      "|       id|attrition|age|gender|dependents| education|maritalstatus|income|cardcategory|sincewhen|\n",
      "+---------+---------+---+------+----------+----------+-------------+------+------------+---------+\n",
      "|768805383|       no| 45|     m|         3|highSchool|      married|level2|        blue|       39|\n",
      "|818770008|       no| 49|     f|         5|  graduate|       single|level0|        blue|       44|\n",
      "|713982108|       no| 51|     m|         3|  graduate|      married|level3|        blue|       36|\n",
      "+---------+---------+---+------+----------+----------+-------------+------+------------+---------+\n",
      "only showing top 3 rows\n",
      "\n",
      "+------------+--------------+-----------------+-----------+------------------+------------+\n",
      "|contactcount|monthsinactive|contactcount12mon|creditlimit|balancerecoverable|avgopentobuy|\n",
      "+------------+--------------+-----------------+-----------+------------------+------------+\n",
      "|           5|             1|                3|    12691.0|               777|     11914.0|\n",
      "|           6|             1|                2|     8256.0|               864|      7392.0|\n",
      "|           4|             1|                0|     3418.0|                 0|      3418.0|\n",
      "+------------+--------------+-----------------+-----------+------------------+------------+\n",
      "only showing top 3 rows\n",
      "\n",
      "+-------------+-----------------+----------------+-------------+-----------+\n",
      "|totalamntq4q1|transactionamount|transactioncount|totalctchange|utilization|\n",
      "+-------------+-----------------+----------------+-------------+-----------+\n",
      "|        1.335|             1144|              42|        1.625|      0.061|\n",
      "|        1.541|             1291|              33|        3.714|      0.105|\n",
      "|        2.594|             1887|              20|        2.333|        0.0|\n",
      "+-------------+-----------------+----------------+-------------+-----------+\n",
      "only showing top 3 rows\n",
      "\n"
     ]
    }
   ],
   "source": [
    "# 3.0 As the above display is overlapping, show first 10 columns                                     (marks 2)\n",
    "#     of 'df' and show just 3-rows\n",
    "df.select(df.columns[:10]).show(3)\n",
    "\n",
    "# 3.1 Then, write code to display next 6 columns:                                                    (marks 2)\n",
    "df.select(df.columns[10:16]).show(3)\n",
    "\n",
    "# 3.2 Then, write code to display rest of the  columns:                                              (marks 2)\n",
    "df.select(df.columns[16:]).show(3)"
   ]
  },
  {
   "cell_type": "code",
   "execution_count": 11,
   "metadata": {},
   "outputs": [
    {
     "name": "stdout",
     "output_type": "stream",
     "text": [
      "root\n",
      " |-- id: integer (nullable = true)\n",
      " |-- attrition: string (nullable = true)\n",
      " |-- age: integer (nullable = true)\n",
      " |-- gender: string (nullable = true)\n",
      " |-- dependents: integer (nullable = true)\n",
      " |-- education: string (nullable = true)\n",
      " |-- maritalstatus: string (nullable = true)\n",
      " |-- income: string (nullable = true)\n",
      " |-- cardcategory: string (nullable = true)\n",
      " |-- sincewhen: integer (nullable = true)\n",
      " |-- contactcount: integer (nullable = true)\n",
      " |-- monthsinactive: integer (nullable = true)\n",
      " |-- contactcount12mon: integer (nullable = true)\n",
      " |-- creditlimit: double (nullable = true)\n",
      " |-- balancerecoverable: integer (nullable = true)\n",
      " |-- avgopentobuy: double (nullable = true)\n",
      " |-- totalamntq4q1: double (nullable = true)\n",
      " |-- transactionamount: integer (nullable = true)\n",
      " |-- transactioncount: integer (nullable = true)\n",
      " |-- totalctchange: double (nullable = true)\n",
      " |-- utilization: double (nullable = true)\n",
      "\n"
     ]
    }
   ],
   "source": [
    "# 3.3 Print the schema of DataFrame, df:                                                             (marks 1)\n",
    "df.printSchema()"
   ]
  },
  {
   "cell_type": "code",
   "execution_count": 12,
   "metadata": {},
   "outputs": [],
   "source": [
    "# 3.4 What information does this schema tell you?                                                   (marks 1)\n"
   ]
  },
  {
   "cell_type": "code",
   "execution_count": 13,
   "metadata": {},
   "outputs": [
    {
     "data": {
      "text/plain": [
       "[('id', 'int'),\n",
       " ('attrition', 'string'),\n",
       " ('age', 'int'),\n",
       " ('gender', 'string'),\n",
       " ('dependents', 'int'),\n",
       " ('education', 'string'),\n",
       " ('maritalstatus', 'string'),\n",
       " ('income', 'string'),\n",
       " ('cardcategory', 'string'),\n",
       " ('sincewhen', 'int'),\n",
       " ('contactcount', 'int'),\n",
       " ('monthsinactive', 'int'),\n",
       " ('contactcount12mon', 'int'),\n",
       " ('creditlimit', 'double'),\n",
       " ('balancerecoverable', 'int'),\n",
       " ('avgopentobuy', 'double'),\n",
       " ('totalamntq4q1', 'double'),\n",
       " ('transactionamount', 'int'),\n",
       " ('transactioncount', 'int'),\n",
       " ('totalctchange', 'double'),\n",
       " ('utilization', 'double')]"
      ]
     },
     "execution_count": 13,
     "metadata": {},
     "output_type": "execute_result"
    }
   ],
   "source": [
    "# 3.5 What are the data types of features?                                                           (marks 2)\n",
    "df.dtypes"
   ]
  },
  {
   "cell_type": "code",
   "execution_count": 14,
   "metadata": {},
   "outputs": [
    {
     "name": "stdout",
     "output_type": "stream",
     "text": [
      "no. of rows:  10127\n",
      "no. of cols: 21\n"
     ]
    }
   ],
   "source": [
    "# 3.6 Write code(s) to find out as to                                                                 (marks 2)\n",
    "#      how many rows and how many columns exist?                                           \n",
    "#rows\n",
    "print('no. of rows:', df.count())\n",
    "#columns\n",
    "print('no. of cols:', len(df.columns))"
   ]
  },
  {
   "cell_type": "code",
   "execution_count": 15,
   "metadata": {},
   "outputs": [
    {
     "name": "stderr",
     "output_type": "stream",
     "text": [
      "                                                                                \r"
     ]
    },
    {
     "name": "stdout",
     "output_type": "stream",
     "text": [
      "+-------+-------------------+---------+-----------------+------+------------------+---------+-------------+-------+------------+------------------+\n",
      "|summary|                 id|attrition|              age|gender|        dependents|education|maritalstatus| income|cardcategory|         sincewhen|\n",
      "+-------+-------------------+---------+-----------------+------+------------------+---------+-------------+-------+------------+------------------+\n",
      "|  count|              10127|    10127|            10127| 10127|             10127|    10127|        10127|  10127|       10127|             10127|\n",
      "|   mean|7.391776063336625E8|     null|46.32596030413745|  null|2.3462032191172115|     null|         null|   null|        null|35.928409203120374|\n",
      "| stddev|3.690378345023116E7|     null|8.016814032549046|  null|  1.29890834890379|     null|         null|   null|        null|  7.98641633087208|\n",
      "|    min|          708082083|       no|               26|     f|                 0|  college|     divorced| level0|    Platinum|                13|\n",
      "|    max|          828343083|      yes|               73|     m|                 5|  unknown|      unknown|unknown|      silver|                56|\n",
      "+-------+-------------------+---------+-----------------+------+------------------+---------+-------------+-------+------------+------------------+\n",
      "\n",
      "+-------+------------------+------------------+------------------+-----------------+------------------+-----------------+\n",
      "|summary|      contactcount|    monthsinactive| contactcount12mon|      creditlimit|balancerecoverable|     avgopentobuy|\n",
      "+-------+------------------+------------------+------------------+-----------------+------------------+-----------------+\n",
      "|  count|             10127|             10127|             10127|            10127|             10127|            10127|\n",
      "|   mean|3.8125802310654686|2.3411671768539546|2.4553174681544387|8631.953698034848|1162.8140614199665|7469.139636614887|\n",
      "| stddev|  1.55440786533883|1.0106223994182844|1.1062251426359249|9088.776650223148| 814.9873352357533|9090.685323679114|\n",
      "|    min|                 1|                 0|                 0|           1438.3|                 0|              3.0|\n",
      "|    max|                 6|                 6|                 6|          34516.0|              2517|          34516.0|\n",
      "+-------+------------------+------------------+------------------+-----------------+------------------+-----------------+\n",
      "\n",
      "+-------+------------------+-----------------+-----------------+-------------------+-------------------+\n",
      "|summary|     totalamntq4q1|transactionamount| transactioncount|      totalctchange|        utilization|\n",
      "+-------+------------------+-----------------+-----------------+-------------------+-------------------+\n",
      "|  count|             10127|            10127|            10127|              10127|              10127|\n",
      "|   mean|0.7599406536980376|4404.086303939963|64.85869457884863| 0.7122223758269962| 0.2748935518909845|\n",
      "| stddev|0.2192067692307027|3397.129253557085|23.47257044923301|0.23808609133294137|0.27569146925238736|\n",
      "|    min|               0.0|              510|               10|                0.0|                0.0|\n",
      "|    max|             3.397|            18484|              139|              3.714|              0.999|\n",
      "+-------+------------------+-----------------+-----------------+-------------------+-------------------+\n",
      "\n"
     ]
    }
   ],
   "source": [
    "# 3.7 Summarise and show statistical information for all columns:                                    (marks 2)\n",
    "df.describe(df.columns[:10]).show()\n",
    "df.describe(df.columns[10:16]).show()\n",
    "df.describe(df.columns[16:]).show()"
   ]
  },
  {
   "cell_type": "code",
   "execution_count": 16,
   "metadata": {},
   "outputs": [
    {
     "name": "stdout",
     "output_type": "stream",
     "text": [
      "+---------+-----+\n",
      "|attrition|count|\n",
      "+---------+-----+\n",
      "|       no| 8500|\n",
      "|      yes| 1627|\n",
      "+---------+-----+\n",
      "\n"
     ]
    }
   ],
   "source": [
    "# 3.8 'attrition' column has two values: 'yes' and 'no'                                             (marks 4)\n",
    "#      Show their distribution (ie value counts)\n",
    "df.groupby('attrition').count().show()"
   ]
  },
  {
   "cell_type": "code",
   "execution_count": 17,
   "metadata": {},
   "outputs": [
    {
     "data": {
      "text/html": [
       "<div>\n",
       "<style scoped>\n",
       "    .dataframe tbody tr th:only-of-type {\n",
       "        vertical-align: middle;\n",
       "    }\n",
       "\n",
       "    .dataframe tbody tr th {\n",
       "        vertical-align: top;\n",
       "    }\n",
       "\n",
       "    .dataframe thead th {\n",
       "        text-align: right;\n",
       "    }\n",
       "</style>\n",
       "<table border=\"1\" class=\"dataframe\">\n",
       "  <thead>\n",
       "    <tr style=\"text-align: right;\">\n",
       "      <th></th>\n",
       "      <th>age</th>\n",
       "      <th>creditlimit</th>\n",
       "    </tr>\n",
       "  </thead>\n",
       "  <tbody>\n",
       "    <tr>\n",
       "      <th>0</th>\n",
       "      <td>45</td>\n",
       "      <td>12691.0</td>\n",
       "    </tr>\n",
       "    <tr>\n",
       "      <th>1</th>\n",
       "      <td>49</td>\n",
       "      <td>8256.0</td>\n",
       "    </tr>\n",
       "  </tbody>\n",
       "</table>\n",
       "</div>"
      ],
      "text/plain": [
       "   age  creditlimit\n",
       "0   45      12691.0\n",
       "1   49       8256.0"
      ]
     },
     "execution_count": 17,
     "metadata": {},
     "output_type": "execute_result"
    }
   ],
   "source": [
    "# 3.9 From the Spark DataFrame,df, extract just                                                     (marks: 3)\n",
    "#     two columns: 'age' and 'creditlimit'.             \n",
    "#     Convert the extracted DataFrame to pandas DataFrame.\n",
    "abc = df.select(['age','creditlimit'])\n",
    "pnd = abc.toPandas()\n",
    "\n",
    "pnd.head(2)"
   ]
  },
  {
   "cell_type": "code",
   "execution_count": 18,
   "metadata": {},
   "outputs": [
    {
     "data": {
      "text/plain": [
       "<AxesSubplot:xlabel='creditlimit', ylabel='age'>"
      ]
     },
     "execution_count": 18,
     "metadata": {},
     "output_type": "execute_result"
    },
    {
     "data": {
      "image/png": "[encoded data removed]",
      "text/plain": [
       "<Figure size 432x288 with 1 Axes>"
      ]
     },
     "metadata": {
      "needs_background": "light"
     },
     "output_type": "display_data"
    }
   ],
   "source": [
    "# 3.10 Use pandas DataFrame from the above question (#3.9),                                         (marks 2)\n",
    "#   to plot a chart between 'creditlimit' and 'age':\n",
    "pnd.plot.scatter(x='creditlimit' , y= 'age')"
   ]
  },
  {
   "cell_type": "code",
   "execution_count": 19,
   "metadata": {},
   "outputs": [],
   "source": [
    "# 3.11 Write in one sentence your observation from the above chart:                                (marks 2)\n"
   ]
  },
  {
   "cell_type": "markdown",
   "metadata": {},
   "source": [
    "<a name=\"aggregate\"> </a>\n",
    "## 4.0 Data aggregation and summarisation\n",
    "You can attempt this section even after Machine Learning parts below\n",
    "\n",
    "\n",
    "&ensp;&ensp;&ensp;&ensp;&ensp;&ensp;&ensp;&ensp;&ensp;&ensp;&ensp;&ensp;&ensp;&ensp;&ensp;&ensp;&ensp;&ensp;&ensp;&ensp;&ensp;&ensp;&ensp;&ensp;&ensp;&ensp;&ensp;&ensp;&ensp;&ensp;&ensp;&ensp;&ensp;&ensp;&ensp;&ensp;&ensp;&ensp;&ensp;&ensp;&ensp;&ensp;&ensp;&ensp;&ensp;&ensp;&ensp;&ensp;&ensp;&ensp;&ensp;&ensp;&ensp;&ensp;&ensp;&ensp;&ensp;&ensp;&ensp;&ensp;&ensp;&ensp;&ensp;&ensp;&ensp;&ensp;&ensp;&ensp;&ensp;&ensp;&ensp;&ensp;&ensp;&ensp;&ensp;&ensp;&ensp;&ensp;&ensp;&ensp;&ensp;&ensp;&ensp;&ensp;&ensp;&ensp;&ensp;&ensp;&ensp;&ensp;&ensp;&ensp;&ensp;&ensp;&ensp;&ensp;&ensp;&ensp;&ensp;&ensp;&ensp;&ensp;&ensp;&ensp;&ensp;&ensp;&ensp;&ensp;&ensp;&ensp;&ensp;&ensp;&ensp;&ensp;&ensp;&ensp;&ensp;&ensp;&ensp;&ensp;Go to [top](#top)\n"
   ]
  },
  {
   "cell_type": "code",
   "execution_count": 20,
   "metadata": {},
   "outputs": [],
   "source": [
    "#  There are six categorical columns. \n",
    "#  And fourteen numeric columns. \n",
    "#  There is one ID column \n",
    "cat_col = ['attrition','gender','maritalstatus','education','income','cardcategory']\n",
    "num_col = ['age','dependents','sincewhen', 'contactcount', 'monthsinactive', 'contactcount12mon',\n",
    "           'creditlimit','balancerecoverable','avgopentobuy',\n",
    "           'totalamntq4q1','transactionamount','transactioncount','totalctchange','utilization']"
   ]
  },
  {
   "cell_type": "code",
   "execution_count": 21,
   "metadata": {},
   "outputs": [
    {
     "name": "stdout",
     "output_type": "stream",
     "text": [
      "+---------+------------------+------------------+------------------+------------------+-------------------+----------------------+-----------------+\n",
      "|attrition|          avg(age)|   avg(dependents)|    avg(sincewhen)| avg(contactcount)|avg(monthsinactive)|avg(contactcount12mon)| avg(creditlimit)|\n",
      "+---------+------------------+------------------+------------------+------------------+-------------------+----------------------+-----------------+\n",
      "|       no| 46.26211764705882|2.3354117647058823| 35.88058823529412|3.9145882352941177|  2.273764705882353|    2.3563529411764708|8726.877517646963|\n",
      "|      yes|46.659496004917024| 2.402581438229871|36.178242163491085| 3.279655808236017|  2.693300553165335|     2.972341733251383| 8136.03945912722|\n",
      "+---------+------------------+------------------+------------------+------------------+-------------------+----------------------+-----------------+\n",
      "\n",
      "+---------+-----------------------+-----------------+------------------+----------------------+---------------------+------------------+\n",
      "|attrition|avg(balancerecoverable)|avg(avgopentobuy)|avg(totalamntq4q1)|avg(transactionamount)|avg(transactioncount)|avg(totalctchange)|\n",
      "+---------+-----------------------+-----------------+------------------+----------------------+---------------------+------------------+\n",
      "|       no|     1256.6041176470587|7470.273399999916| 0.772509529411769|     4654.655882352941|    68.67258823529411|0.7424341176470571|\n",
      "|      yes|      672.8229870928088|7463.216472034408|0.6942765826674863|     3095.025814382299|    44.93362015980332|0.5543859864781803|\n",
      "+---------+-----------------------+-----------------+------------------+----------------------+---------------------+------------------+\n",
      "\n",
      "+---------+-------------------+\n",
      "|attrition|   avg(utilization)|\n",
      "+---------+-------------------+\n",
      "|       no| 0.2964117647058822|\n",
      "|      yes|0.16247510755992617|\n",
      "+---------+-------------------+\n",
      "\n"
     ]
    }
   ],
   "source": [
    "# 4.1 Group by any one of the six categorical columns                                               (marks 7)\n",
    "#       and find mean of all numeric columns:              \n",
    "df.groupby('attrition').avg('age','dependents','sincewhen', 'contactcount', 'monthsinactive',\n",
    "                            'contactcount12mon','creditlimit').show()\n",
    "df.groupby('attrition').avg('balancerecoverable','avgopentobuy','totalamntq4q1','transactionamount',\n",
    "                            'transactioncount','totalctchange').show()\n",
    "df.groupby('attrition').avg('utilization').show()"
   ]
  },
  {
   "cell_type": "code",
   "execution_count": 22,
   "metadata": {},
   "outputs": [
    {
     "name": "stdout",
     "output_type": "stream",
     "text": [
      "+---------+------+------------------+------------------+------------------+------------------+-------------------+----------------------+\n",
      "|attrition|gender|          avg(age)|   avg(dependents)|    avg(sincewhen)| avg(contactcount)|avg(monthsinactive)|avg(contactcount12mon)|\n",
      "+---------+------+------------------+------------------+------------------+------------------+-------------------+----------------------+\n",
      "|      yes|     f|46.623655913978496|2.3731182795698924|36.151612903225804|3.3989247311827957|  2.689247311827957|     2.935483870967742|\n",
      "|       no|     m|46.088408644400786| 2.337180746561886| 35.81286836935167|  3.93713163064833| 2.2659626719056973|     2.413310412573674|\n",
      "|      yes|     m|46.707317073170735| 2.441893830703013| 36.21377331420373|  3.12051649928264| 2.6987087517934003|    3.0215208034433285|\n",
      "|       no|     f| 46.42186088527552|2.3337850045167117| 35.94286359530262|3.8938572719060525|  2.280939476061427|     2.303974706413731|\n",
      "+---------+------+------------------+------------------+------------------+------------------+-------------------+----------------------+\n",
      "\n",
      "+---------+------+------------------+-----------------------+------------------+------------------+----------------------+\n",
      "|attrition|gender|  avg(creditlimit)|avg(balancerecoverable)| avg(avgopentobuy)|avg(totalamntq4q1)|avg(transactionamount)|\n",
      "+---------+------+------------------+-----------------------+------------------+------------------+----------------------+\n",
      "|      yes|     f| 4515.497526881717|      667.2075268817205|3848.2900000000004|  0.68384193548387|    2784.1838709677418|\n",
      "|       no|     m|12637.539390962658|     1275.4071709233792|11362.132220039304|0.7760655697445972|     4662.124017681729|\n",
      "|      yes|     m|12966.891678622665|      680.3156384505022|12286.576040172164|0.7081994261119079|    3509.7790530846487|\n",
      "|       no|     f| 5130.622967479714|     1239.3127822944896| 3891.310185185219|0.7692393857271898|     4647.788166214996|\n",
      "+---------+------+------------------+-----------------------+------------------+------------------+----------------------+\n",
      "\n",
      "+---------+------+---------------------+------------------+-------------------+\n",
      "|attrition|gender|avg(transactioncount)|avg(totalctchange)|   avg(utilization)|\n",
      "+---------+------+---------------------+------------------+-------------------+\n",
      "|      yes|     f|    44.05161290322581|0.5358806451612902| 0.2046967741935483|\n",
      "|       no|     m|    66.10240667976424|0.7332983791748497| 0.2155365913555987|\n",
      "|      yes|     m|    46.11047345767575| 0.579077474892396|0.10613916786226683|\n",
      "|       no|     f|    71.03613369467028|0.7508353658536565|0.37078477868112053|\n",
      "+---------+------+---------------------+------------------+-------------------+\n",
      "\n"
     ]
    }
   ],
   "source": [
    "# 4.2 Group by any two of categorical columns                                                       (marks 8)\n",
    "#     and find mean of all numeric columns\n",
    "df.groupby('attrition','gender').avg('age','dependents','sincewhen', 'contactcount', 'monthsinactive',\n",
    "                                     'contactcount12mon').show()\n",
    "df.groupby('attrition','gender').avg('creditlimit','balancerecoverable','avgopentobuy','totalamntq4q1',\n",
    "                                     'transactionamount').show()\n",
    "df.groupby('attrition','gender').avg('transactioncount','totalctchange','utilization').show()"
   ]
  },
  {
   "cell_type": "code",
   "execution_count": 23,
   "metadata": {},
   "outputs": [
    {
     "name": "stdout",
     "output_type": "stream",
     "text": [
      "+---------+------------------+\n",
      "|attrition|          avg(age)|\n",
      "+---------+------------------+\n",
      "|       no| 46.26211764705882|\n",
      "|      yes|46.659496004917024|\n",
      "+---------+------------------+\n",
      "\n",
      "+---------+--------+\n",
      "|attrition|max(age)|\n",
      "+---------+--------+\n",
      "|       no|      73|\n",
      "|      yes|      68|\n",
      "+---------+--------+\n",
      "\n"
     ]
    }
   ],
   "source": [
    "# 4.3 Group by any one of the six categorical columns.                                              (marks 5)\n",
    "#     Find mean of just one numeric column \n",
    "#     and max of any other numeric column:\n",
    "df.groupby('attrition').agg({'age':'avg'}).show()\n",
    "df.groupby('attrition').agg({'age':'max'}).show()"
   ]
  },
  {
   "cell_type": "code",
   "execution_count": 24,
   "metadata": {},
   "outputs": [
    {
     "name": "stdout",
     "output_type": "stream",
     "text": [
      "+---------+------+---------------+------------------+\n",
      "|attrition|gender|max(dependents)|          avg(age)|\n",
      "+---------+------+---------------+------------------+\n",
      "|      yes|     f|              5|46.623655913978496|\n",
      "|       no|     m|              5|46.088408644400786|\n",
      "|      yes|     m|              5|46.707317073170735|\n",
      "|       no|     f|              5| 46.42186088527552|\n",
      "+---------+------+---------------+------------------+\n",
      "\n"
     ]
    }
   ],
   "source": [
    "# 4.4 Group by any TWO of the six categorical columns.                                              (marks 5)\n",
    "#     Find mean of any one numeric column \n",
    "#     and max of any other numeric column:\n",
    "df.groupby('attrition','gender').agg({'age':'avg','dependents':'max'}).show()"
   ]
  },
  {
   "cell_type": "markdown",
   "metadata": {},
   "source": [
    "<a name=\"part1\"></a>\n",
    "## 5. Machine Learning\n",
    "## Part--I  Questions\n",
    "We perform a regression problem<br>\n",
    "Our target column is: <span style=\"color:red\">**'creditlimit'**</span> \n",
    "\n",
    "\n",
    "&ensp;&ensp;&ensp;&ensp;&ensp;&ensp;&ensp;&ensp;&ensp;&ensp;&ensp;&ensp;&ensp;&ensp;&ensp;&ensp;&ensp;&ensp;&ensp;&ensp;&ensp;&ensp;&ensp;&ensp;&ensp;&ensp;&ensp;&ensp;&ensp;&ensp;&ensp;&ensp;&ensp;&ensp;&ensp;&ensp;&ensp;&ensp;&ensp;&ensp;&ensp;&ensp;&ensp;&ensp;&ensp;&ensp;&ensp;&ensp;&ensp;&ensp;&ensp;&ensp;&ensp;&ensp;&ensp;&ensp;&ensp;&ensp;&ensp;&ensp;&ensp;&ensp;&ensp;&ensp;&ensp;&ensp;&ensp;&ensp;&ensp;&ensp;&ensp;&ensp;&ensp;&ensp;&ensp;&ensp;&ensp;&ensp;&ensp;&ensp;&ensp;&ensp;&ensp;&ensp;&ensp;&ensp;&ensp;&ensp;&ensp;&ensp;&ensp;&ensp;&ensp;&ensp;&ensp;&ensp;&ensp;&ensp;&ensp;&ensp;&ensp;&ensp;&ensp;&ensp;&ensp;&ensp;&ensp;&ensp;&ensp;&ensp;&ensp;&ensp;&ensp;&ensp;&ensp;&ensp;&ensp;&ensp;&ensp;&ensp;Go to [top](#top)\n"
   ]
  },
  {
   "cell_type": "code",
   "execution_count": 25,
   "metadata": {},
   "outputs": [],
   "source": [
    "# We work with NUMERIC COLUMNS only\n",
    "# Target column:  'creditlimit' "
   ]
  },
  {
   "cell_type": "code",
   "execution_count": 40,
   "metadata": {},
   "outputs": [],
   "source": [
    "# 5.0 Rename the target column: 'creditlimit' ,  as 'label'                                       (marks: 2)\n",
    "#     (Use .withColumnRenamed() )\n",
    "df = df.withColumnRenamed('creditlimit','label')"
   ]
  },
  {
   "cell_type": "code",
   "execution_count": 41,
   "metadata": {},
   "outputs": [
    {
     "data": {
      "text/plain": [
       "14"
      ]
     },
     "execution_count": 41,
     "metadata": {},
     "output_type": "execute_result"
    }
   ],
   "source": [
    "# 5.1 List of all numeric columns (after above renaming of 'creditlimit') \n",
    "#     is here:\n",
    "cols = ['age','dependents', 'sincewhen', 'contactcount','monthsinactive',\n",
    "        'contactcount12mon', 'balancerecoverable', 'avgopentobuy', 'totalamntq4q1', \n",
    "        'transactionamount','transactioncount','totalctchange', 'utilization', 'label']\n",
    "\n",
    "# 5.0.1 How many numeric columns (including 'label') are here?\n",
    "len(cols)"
   ]
  },
  {
   "cell_type": "code",
   "execution_count": 62,
   "metadata": {},
   "outputs": [],
   "source": [
    "# 5.2 Split dataset, df, into 80:20 ratio                                                         (marks: 2 )                                                            \n",
    "#     to get train, test. Use function(randomSplit()\n",
    "train, test = df.randomSplit([0.8,0.2])"
   ]
  },
  {
   "cell_type": "code",
   "execution_count": 63,
   "metadata": {},
   "outputs": [],
   "source": [
    "# 5.3 Among the 13+1 numeric features,                                                              (marks 2)\n",
    "#     Select any five (or more) numeric features for ML-operation.\n",
    "#     Exclude 'label' from this group of five.\n",
    "#     Write your selected five (or more) numeric features in the list below\n",
    "#     (each column name should be written within inverted commas)\n",
    "num_cols = ['age', 'dependents', 'utilization' ,'transactioncount','totalctchange' ]        "
   ]
  },
  {
   "cell_type": "code",
   "execution_count": 64,
   "metadata": {},
   "outputs": [],
   "source": [
    "# 5.4 Use VectorAssembler class to assemble the selected                                           (marks 2)\n",
    "#     five features.\n",
    "#     Instantiate VectorAssembler object to produce 'vc'\n",
    "vc = VectorAssembler(inputCols = num_cols,\n",
    "                    outputCol = 'features'\n",
    "                    )"
   ]
  },
  {
   "cell_type": "code",
   "execution_count": 65,
   "metadata": {},
   "outputs": [],
   "source": [
    "# 5.5 Use vc to transform() the train and test datasets                                              (marks 3)\n",
    "#     \n",
    "train = vc.transform(train)\n",
    "test  = vc.transform(test)"
   ]
  },
  {
   "cell_type": "code",
   "execution_count": 66,
   "metadata": {},
   "outputs": [],
   "source": [
    "# 5.6 Instantiate RandomForestRegressor()                                                           (marks 3)\n",
    "#      to produce RandomForestRegressor object, say, 'rf'\n",
    "rf = RandomForestRegressor()"
   ]
  },
  {
   "cell_type": "code",
   "execution_count": 67,
   "metadata": {},
   "outputs": [],
   "source": [
    "# 5.7 Fit the rf object on the 'train'                                                               (marks 2)\n",
    "#     (outputted from #5,5) to produce a model object:\n",
    "model = rf.fit(train)"
   ]
  },
  {
   "cell_type": "code",
   "execution_count": 68,
   "metadata": {},
   "outputs": [
    {
     "name": "stdout",
     "output_type": "stream",
     "text": [
      "+---------+---------+---+------+----------+---------+-------------+-------+------------+---------+\n",
      "|       id|attrition|age|gender|dependents|education|maritalstatus| income|cardcategory|sincewhen|\n",
      "+---------+---------+---+------+----------+---------+-------------+-------+------------+---------+\n",
      "|708139833|      yes| 40|     m|         3| graduate|      unknown| level2|        blue|       30|\n",
      "|708147108|       no| 26|     m|         0| graduate|     divorced|unknown|        blue|       36|\n",
      "|708154833|      yes| 39|     f|         2| graduate|       single| level0|        blue|       27|\n",
      "+---------+---------+---+------+----------+---------+-------------+-------+------------+---------+\n",
      "only showing top 3 rows\n",
      "\n",
      "+------------+--------------+-----------------+-------+------------------+------------+\n",
      "|contactcount|monthsinactive|contactcount12mon|  label|balancerecoverable|avgopentobuy|\n",
      "+------------+--------------+-----------------+-------+------------------+------------+\n",
      "|           4|             2|                3| 6391.0|                 0|      6391.0|\n",
      "|           6|             1|                3|21084.0|              2517|     18567.0|\n",
      "|           1|             3|                3| 1438.3|               811|       627.3|\n",
      "+------------+--------------+-----------------+-------+------------------+------------+\n",
      "only showing top 3 rows\n",
      "\n",
      "+-------------+-----------------+----------------+-------------+-----------+--------------------+------------------+\n",
      "|totalamntq4q1|transactionamount|transactioncount|totalctchange|utilization|            features|        prediction|\n",
      "+-------------+-----------------+----------------+-------------+-----------+--------------------+------------------+\n",
      "|        0.632|             2323|              44|        0.419|        0.0|[40.0,3.0,0.0,44....| 10017.10635323521|\n",
      "|        0.763|             2309|              71|        0.543|      0.119|[26.0,0.0,0.119,7...|12514.483409303708|\n",
      "|        0.571|             2336|              46|        0.278|      0.564|[39.0,2.0,0.564,4...| 3167.258423206642|\n",
      "+-------------+-----------------+----------------+-------------+-----------+--------------------+------------------+\n",
      "only showing top 3 rows\n",
      "\n"
     ]
    }
   ],
   "source": [
    "# 5.8 Use the 'model' object to predict test data:                                                    (marks 2)\n",
    "predicted = model.transform(test)\n",
    "\n",
    "predicted.select(predicted.columns[:10]).show(3)\n",
    "predicted.select(predicted.columns[10:16]).show(3)\n",
    "predicted.select(predicted.columns[16:]).show(3)"
   ]
  },
  {
   "cell_type": "code",
   "execution_count": 71,
   "metadata": {},
   "outputs": [
    {
     "data": {
      "text/plain": [
       "6226.6641978902035"
      ]
     },
     "execution_count": 71,
     "metadata": {},
     "output_type": "execute_result"
    },
    {
     "data": {
      "text/plain": [
       "0.5338241344240469"
      ]
     },
     "execution_count": 71,
     "metadata": {},
     "output_type": "execute_result"
    }
   ],
   "source": [
    "# 5.9 Evaluate modeling results                                                                        (marks 2)\n",
    "#     Calculate rmse:\n",
    "evaluator = RegressionEvaluator(metricName = \"rmse\")\n",
    "evaluator.evaluate(predicted)\n",
    "\n",
    "evaluator = RegressionEvaluator(metricName = \"r2\")\n",
    "evaluator.evaluate(predicted)"
   ]
  },
  {
   "cell_type": "markdown",
   "metadata": {},
   "source": [
    "<a name=\"part2\"></a>\n",
    "## 6.0 ML, Part--II Questions\n",
    "Pipelinig\n",
    "\n",
    "&ensp;&ensp;&ensp;&ensp;&ensp;&ensp;&ensp;&ensp;&ensp;&ensp;&ensp;&ensp;&ensp;&ensp;&ensp;&ensp;&ensp;&ensp;&ensp;&ensp;&ensp;&ensp;&ensp;&ensp;&ensp;&ensp;&ensp;&ensp;&ensp;&ensp;&ensp;&ensp;&ensp;&ensp;&ensp;&ensp;&ensp;&ensp;&ensp;&ensp;&ensp;&ensp;&ensp;&ensp;&ensp;&ensp;&ensp;&ensp;&ensp;&ensp;&ensp;&ensp;&ensp;&ensp;&ensp;&ensp;&ensp;&ensp;&ensp;&ensp;&ensp;&ensp;&ensp;&ensp;&ensp;&ensp;&ensp;&ensp;&ensp;&ensp;&ensp;&ensp;&ensp;&ensp;&ensp;&ensp;&ensp;&ensp;&ensp;&ensp;&ensp;&ensp;&ensp;&ensp;&ensp;&ensp;&ensp;&ensp;&ensp;&ensp;&ensp;&ensp;&ensp;&ensp;&ensp;&ensp;&ensp;&ensp;&ensp;&ensp;&ensp;&ensp;&ensp;&ensp;&ensp;&ensp;&ensp;&ensp;&ensp;&ensp;&ensp;&ensp;&ensp;&ensp;&ensp;&ensp;&ensp;&ensp;&ensp;&ensp;Go to [top](#top)\n"
   ]
  },
  {
   "cell_type": "code",
   "execution_count": 72,
   "metadata": {},
   "outputs": [],
   "source": [
    "# 6.0 Drop 'features' column, if, created earlier:                                                  \n",
    "train = train.drop('features')\n",
    "test = test.drop('features')"
   ]
  },
  {
   "cell_type": "code",
   "execution_count": 73,
   "metadata": {},
   "outputs": [],
   "source": [
    "# 6.1 Write a pipeline to carry-out the above operations (ie in Part--I)                           (marks 5)\n",
    "#     Your pipeline will contain a VectorAssembler object\n",
    "#     and a RandomForestRegressor() object.\n",
    "pipe1 = Pipeline(\n",
    "                  stages = [\n",
    "                            VectorAssembler\n",
    "                            (inputCols = num_cols ,\n",
    "                            outputCol = 'features'),\n",
    "                            \n",
    "                            RandomForestRegressor()\n",
    "                            ]                  \n",
    "                )"
   ]
  },
  {
   "cell_type": "code",
   "execution_count": 74,
   "metadata": {},
   "outputs": [],
   "source": [
    "# 6.2 Fit the pipe ('pipe1') over 'train' data and create a model object:                           (marks 2)\n",
    "model1 = pipe1.fit(train)"
   ]
  },
  {
   "cell_type": "code",
   "execution_count": 76,
   "metadata": {},
   "outputs": [
    {
     "name": "stderr",
     "output_type": "stream",
     "text": [
      "Exception ignored in: <function JavaWrapper.__del__ at 0x7fe7d068a8b0>\n",
      "Traceback (most recent call last):\n",
      "  File \"/opt/spark-3.3.0-bin-hadoop3/python/pyspark/ml/wrapper.py\", line 53, in __del__\n",
      "    if SparkContext._active_spark_context and self._java_obj is not None:\n",
      "AttributeError: 'RegressionEvaluator' object has no attribute '_java_obj'\n"
     ]
    }
   ],
   "source": [
    "# 6.3 Make predictions for the test dataset using the 'model1' object:                              (marks 2)\n",
    "predicted1 = model1.transform(test)"
   ]
  },
  {
   "cell_type": "code",
   "execution_count": 77,
   "metadata": {},
   "outputs": [
    {
     "data": {
      "text/plain": [
       "6226.6641978902035"
      ]
     },
     "execution_count": 77,
     "metadata": {},
     "output_type": "execute_result"
    },
    {
     "data": {
      "text/plain": [
       "0.5338241344240469"
      ]
     },
     "execution_count": 77,
     "metadata": {},
     "output_type": "execute_result"
    }
   ],
   "source": [
    "# 6.4 Evaluate results of modeling                                                                   (marks 1)\n",
    "#     Calculate 'rmse' :\n",
    "evaluator = RegressionEvaluator(metricName = \"rmse\")\n",
    "evaluator.evaluate(predicted1)\n",
    "\n",
    "evaluator = RegressionEvaluator(metricName = \"r2\")\n",
    "evaluator.evaluate(predicted1)"
   ]
  },
  {
   "cell_type": "markdown",
   "metadata": {},
   "source": [
    "<a name=\"part3\"></a>\n",
    "## 7.0 ML, Part--III Questions\n",
    "\n",
    "`StandardScaler()` syntax is [here](https://spark.apache.org/docs/latest/api/python/reference/api/pyspark.ml.feature.StandardScaler.html)<br>\n",
    "`PCA()` syntax is [here](https://spark.apache.org/docs/latest/api/python/reference/api/pyspark.ml.feature.PCA.html)<br>\n",
    "Both packages have already been called. No need to call them again\n",
    "\n",
    "\n",
    "&ensp;&ensp;&ensp;&ensp;&ensp;&ensp;&ensp;&ensp;&ensp;&ensp;&ensp;&ensp;&ensp;&ensp;&ensp;&ensp;&ensp;&ensp;&ensp;&ensp;&ensp;&ensp;&ensp;&ensp;&ensp;&ensp;&ensp;&ensp;&ensp;&ensp;&ensp;&ensp;&ensp;&ensp;&ensp;&ensp;&ensp;&ensp;&ensp;&ensp;&ensp;&ensp;&ensp;&ensp;&ensp;&ensp;&ensp;&ensp;&ensp;&ensp;&ensp;&ensp;&ensp;&ensp;&ensp;&ensp;&ensp;&ensp;&ensp;&ensp;&ensp;&ensp;&ensp;&ensp;&ensp;&ensp;&ensp;&ensp;&ensp;&ensp;&ensp;&ensp;&ensp;&ensp;&ensp;&ensp;&ensp;&ensp;&ensp;&ensp;&ensp;&ensp;&ensp;&ensp;&ensp;&ensp;&ensp;&ensp;&ensp;&ensp;&ensp;&ensp;&ensp;&ensp;&ensp;&ensp;&ensp;&ensp;&ensp;&ensp;&ensp;&ensp;&ensp;&ensp;&ensp;&ensp;&ensp;&ensp;&ensp;&ensp;&ensp;&ensp;&ensp;&ensp;&ensp;&ensp;&ensp;&ensp;&ensp;&ensp;Go to [top](#top)\n"
   ]
  },
  {
   "cell_type": "code",
   "execution_count": 132,
   "metadata": {},
   "outputs": [],
   "source": [
    "# 7.0 Drop any 'features' column created earlier:\n",
    "train = train.drop('features')\n",
    "test = test.drop('features')"
   ]
  },
  {
   "cell_type": "code",
   "execution_count": 133,
   "metadata": {},
   "outputs": [],
   "source": [
    "# 7.1 Rewrite the pipeline created in  #6.1 to include, StandardScaler() & PCA()                (marks 5)\n",
    "#     When writing PCA object select a value of 'k' either 3 or 4\n",
    "pipe2 = Pipeline(\n",
    "                  stages = [\n",
    "                      VectorAssembler\n",
    "                            (inputCols = num_cols,\n",
    "                            outputCol = 'pre_features'), \n",
    "                      \n",
    "                      StandardScaler(\n",
    "                            inputCol = 'pre_features',\n",
    "                            outputCol = 'features'),\n",
    "                            \n",
    "                      PCA(k=3, inputCol = 'features', outputCol = 'pcafeatures')\n",
    "                           ]\n",
    "              )"
   ]
  },
  {
   "cell_type": "code",
   "execution_count": 152,
   "metadata": {},
   "outputs": [],
   "source": [
    "# 7.2  Fit the pipe (pioe2) over 'train' data and create a 'model2' object:                         (marks 2)\n",
    "model2 = pipe2.fit(train)"
   ]
  },
  {
   "cell_type": "code",
   "execution_count": 157,
   "metadata": {},
   "outputs": [],
   "source": [
    "# 7.3 Make predictions for the 'test' dataset using the 'model2' object:                            (marks 2)\n",
    "predicted2 = model2.transform(test)"
   ]
  },
  {
   "cell_type": "code",
   "execution_count": 158,
   "metadata": {},
   "outputs": [
    {
     "name": "stdout",
     "output_type": "stream",
     "text": [
      "+---------+---------+---+------+----------+---------+-------------+-------+------------+---------+\n",
      "|       id|attrition|age|gender|dependents|education|maritalstatus| income|cardcategory|sincewhen|\n",
      "+---------+---------+---+------+----------+---------+-------------+-------+------------+---------+\n",
      "|708139833|      yes| 40|     m|         3| graduate|      unknown| level2|        blue|       30|\n",
      "|708147108|       no| 26|     m|         0| graduate|     divorced|unknown|        blue|       36|\n",
      "|708154833|      yes| 39|     f|         2| graduate|       single| level0|        blue|       27|\n",
      "+---------+---------+---+------+----------+---------+-------------+-------+------------+---------+\n",
      "only showing top 3 rows\n",
      "\n",
      "+------------+--------------+-----------------+------------------+------------+-------------+\n",
      "|contactcount|monthsinactive|contactcount12mon|balancerecoverable|avgopentobuy|totalamntq4q1|\n",
      "+------------+--------------+-----------------+------------------+------------+-------------+\n",
      "|           4|             2|                3|                 0|      6391.0|        0.632|\n",
      "|           6|             1|                3|              2517|     18567.0|        0.763|\n",
      "|           1|             3|                3|               811|       627.3|        0.571|\n",
      "+------------+--------------+-----------------+------------------+------------+-------------+\n",
      "only showing top 3 rows\n",
      "\n",
      "+-----------------+----------------+-------------+-----------+--------------------+--------------------+--------------------+\n",
      "|transactionamount|transactioncount|totalctchange|utilization|        pre_features|            features|         pcafeatures|\n",
      "+-----------------+----------------+-------------+-----------+--------------------+--------------------+--------------------+\n",
      "|             2323|              44|        0.419|        0.0|[40.0,3.0,0.0,44....|[4.99840265084556...|[0.33635732423355...|\n",
      "|             2309|              71|        0.543|      0.119|[26.0,0.0,0.119,7...|[3.24896172304961...|[1.06398676271385...|\n",
      "|             2336|              46|        0.278|      0.564|[39.0,2.0,0.564,4...|[4.87344258457442...|[0.02390206518182...|\n",
      "+-----------------+----------------+-------------+-----------+--------------------+--------------------+--------------------+\n",
      "only showing top 3 rows\n",
      "\n"
     ]
    }
   ],
   "source": [
    "# 7.4 Evaluate results of modeling                                                                  (marks 1)\n",
    "#     Calculate 'rmse' :\n",
    "predicted2.select(predicted2.columns[:10]).show(3)\n",
    "predicted2.select(predicted2.columns[10:16]).show(3)\n",
    "predicted2.select(predicted2.columns[16:]).show(3)"
   ]
  },
  {
   "cell_type": "code",
   "execution_count": null,
   "metadata": {},
   "outputs": [],
   "source": [
    "########### END #############################"
   ]
  }
 ],
 "metadata": {
  "kernelspec": {
   "display_name": "Python 3 (ipykernel)",
   "language": "python",
   "name": "python3"
  },
  "language_info": {
   "codemirror_mode": {
    "name": "ipython",
    "version": 3
   },
   "file_extension": ".py",
   "mimetype": "text/x-python",
   "name": "python",
   "nbconvert_exporter": "python",
   "pygments_lexer": "ipython3",
   "version": "3.10.2"
  }
 },
 "nbformat": 4,
 "nbformat_minor": 2
}
