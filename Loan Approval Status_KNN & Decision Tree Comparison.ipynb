{
 "cells": [
  {
   "cell_type": "code",
   "execution_count": 28,
   "id": "fd0bba44",
   "metadata": {},
   "outputs": [],
   "source": [
    "# This file contains a comparison between KNN and Decision Tree Classifier Algorithms, applied on Loan Approval Dataset\n",
    "# to predict if a loan should be approved. It also highlights which algorithm gives a better prediction based on accuracy scores.\n",
    "\n",
    "# Import packages\n",
    "import numpy as np\n",
    "import pandas as pd\n",
    "import seaborn as sns\n",
    "from matplotlib import pyplot as plt\n",
    "from sklearn.metrics import confusion_matrix\n",
    "from sklearn.neighbors import KNeighborsClassifier\n",
    "from sklearn.model_selection import train_test_split\n",
    "from sklearn.metrics import accuracy_score\n",
    "from sklearn.tree import DecisionTreeClassifier\n",
    "from sklearn import metrics\n",
    "from sklearn.metrics import f1_score\n",
    "from sklearn.metrics import classification_report\n",
    "\n",
    "# To read CSV data\n",
    "data = pd.read_csv(\"C:/Users/Aditi Arora/Documents/FORE/Trimester 3/MLP/archive/train_u6lujuX_CVtuZ9i (1).csv\")"
   ]
  },
  {
   "cell_type": "code",
   "execution_count": 29,
   "id": "c17e4980",
   "metadata": {},
   "outputs": [],
   "source": [
    "# Male = 0, Female = 1\n",
    "data['Gender'] = data['Gender'].replace({'Male':0, 'Female':1,'Unknown':2})\n",
    "# Yes = 1, No = 0\n",
    "data['Married'] = data['Married'].replace({'Yes':1, 'No':0, 'Unknown':2})\n",
    "# Graduate = 1, Not Graduate = 0\n",
    "data['Education'] = data['Education'].replace({'Graduate':1, 'Not Graduate':0})\n",
    "# Yes = 1\n",
    "# No = 0\n",
    "# Unknown = 2\n",
    "data['Self_Employed'] = data['Self_Employed'].replace ({'Yes':1, 'No':0, 'Unknown':2})\n",
    "data['Property_Area'] = data['Property_Area'].replace ({'Semiurban':1, 'Urban': 0, 'Rural':2})\n",
    "data['Loan_Status'] = data['Loan_Status'].replace({'Y':1, 'N':0})\n",
    "data['Dependents'] = data['Dependents'].replace({'3+':3})"
   ]
  },
  {
   "cell_type": "code",
   "execution_count": 30,
   "id": "f76b97b8",
   "metadata": {},
   "outputs": [
    {
     "data": {
      "text/html": [
       "<div>\n",
       "<style scoped>\n",
       "    .dataframe tbody tr th:only-of-type {\n",
       "        vertical-align: middle;\n",
       "    }\n",
       "\n",
       "    .dataframe tbody tr th {\n",
       "        vertical-align: top;\n",
       "    }\n",
       "\n",
       "    .dataframe thead th {\n",
       "        text-align: right;\n",
       "    }\n",
       "</style>\n",
       "<table border=\"1\" class=\"dataframe\">\n",
       "  <thead>\n",
       "    <tr style=\"text-align: right;\">\n",
       "      <th></th>\n",
       "      <th>Loan_ID</th>\n",
       "      <th>Gender</th>\n",
       "      <th>Married</th>\n",
       "      <th>Dependents</th>\n",
       "      <th>Education</th>\n",
       "      <th>Self_Employed</th>\n",
       "      <th>ApplicantIncome</th>\n",
       "      <th>CoapplicantIncome</th>\n",
       "      <th>LoanAmount</th>\n",
       "      <th>Loan_Amount_Term</th>\n",
       "      <th>Credit_History</th>\n",
       "      <th>Property_Area</th>\n",
       "      <th>Loan_Status</th>\n",
       "    </tr>\n",
       "  </thead>\n",
       "  <tbody>\n",
       "    <tr>\n",
       "      <th>0</th>\n",
       "      <td>LP001002</td>\n",
       "      <td>0.0</td>\n",
       "      <td>0.0</td>\n",
       "      <td>0</td>\n",
       "      <td>1</td>\n",
       "      <td>0.0</td>\n",
       "      <td>5849</td>\n",
       "      <td>0.0</td>\n",
       "      <td>NaN</td>\n",
       "      <td>360.0</td>\n",
       "      <td>1.0</td>\n",
       "      <td>0</td>\n",
       "      <td>1</td>\n",
       "    </tr>\n",
       "    <tr>\n",
       "      <th>1</th>\n",
       "      <td>LP001003</td>\n",
       "      <td>0.0</td>\n",
       "      <td>1.0</td>\n",
       "      <td>1</td>\n",
       "      <td>1</td>\n",
       "      <td>0.0</td>\n",
       "      <td>4583</td>\n",
       "      <td>1508.0</td>\n",
       "      <td>128.0</td>\n",
       "      <td>360.0</td>\n",
       "      <td>1.0</td>\n",
       "      <td>2</td>\n",
       "      <td>0</td>\n",
       "    </tr>\n",
       "    <tr>\n",
       "      <th>2</th>\n",
       "      <td>LP001005</td>\n",
       "      <td>0.0</td>\n",
       "      <td>1.0</td>\n",
       "      <td>0</td>\n",
       "      <td>1</td>\n",
       "      <td>1.0</td>\n",
       "      <td>3000</td>\n",
       "      <td>0.0</td>\n",
       "      <td>66.0</td>\n",
       "      <td>360.0</td>\n",
       "      <td>1.0</td>\n",
       "      <td>0</td>\n",
       "      <td>1</td>\n",
       "    </tr>\n",
       "    <tr>\n",
       "      <th>3</th>\n",
       "      <td>LP001006</td>\n",
       "      <td>0.0</td>\n",
       "      <td>1.0</td>\n",
       "      <td>0</td>\n",
       "      <td>0</td>\n",
       "      <td>0.0</td>\n",
       "      <td>2583</td>\n",
       "      <td>2358.0</td>\n",
       "      <td>120.0</td>\n",
       "      <td>360.0</td>\n",
       "      <td>1.0</td>\n",
       "      <td>0</td>\n",
       "      <td>1</td>\n",
       "    </tr>\n",
       "    <tr>\n",
       "      <th>4</th>\n",
       "      <td>LP001008</td>\n",
       "      <td>0.0</td>\n",
       "      <td>0.0</td>\n",
       "      <td>0</td>\n",
       "      <td>1</td>\n",
       "      <td>0.0</td>\n",
       "      <td>6000</td>\n",
       "      <td>0.0</td>\n",
       "      <td>141.0</td>\n",
       "      <td>360.0</td>\n",
       "      <td>1.0</td>\n",
       "      <td>0</td>\n",
       "      <td>1</td>\n",
       "    </tr>\n",
       "  </tbody>\n",
       "</table>\n",
       "</div>"
      ],
      "text/plain": [
       "    Loan_ID  Gender  Married Dependents  Education  Self_Employed  \\\n",
       "0  LP001002     0.0      0.0          0          1            0.0   \n",
       "1  LP001003     0.0      1.0          1          1            0.0   \n",
       "2  LP001005     0.0      1.0          0          1            1.0   \n",
       "3  LP001006     0.0      1.0          0          0            0.0   \n",
       "4  LP001008     0.0      0.0          0          1            0.0   \n",
       "\n",
       "   ApplicantIncome  CoapplicantIncome  LoanAmount  Loan_Amount_Term  \\\n",
       "0             5849                0.0         NaN             360.0   \n",
       "1             4583             1508.0       128.0             360.0   \n",
       "2             3000                0.0        66.0             360.0   \n",
       "3             2583             2358.0       120.0             360.0   \n",
       "4             6000                0.0       141.0             360.0   \n",
       "\n",
       "   Credit_History  Property_Area  Loan_Status  \n",
       "0             1.0              0            1  \n",
       "1             1.0              2            0  \n",
       "2             1.0              0            1  \n",
       "3             1.0              0            1  \n",
       "4             1.0              0            1  "
      ]
     },
     "execution_count": 30,
     "metadata": {},
     "output_type": "execute_result"
    }
   ],
   "source": [
    "# Preview data\n",
    "data.head()"
   ]
  },
  {
   "cell_type": "code",
   "execution_count": 31,
   "id": "c0c8fb23",
   "metadata": {},
   "outputs": [],
   "source": [
    "# Adjustments to missing values\n",
    "train_data = data.copy()\n",
    "train_data['Gender'].fillna(train_data['Gender'].value_counts().idxmax(), inplace=True)\n",
    "train_data['Married'].fillna(train_data['Married'].value_counts().idxmax(), inplace=True)\n",
    "train_data['Dependents'].fillna(train_data['Dependents'].value_counts().idxmax(), inplace=True)\n",
    "train_data['Self_Employed'].fillna(train_data['Self_Employed'].value_counts().idxmax(), inplace=True)\n",
    "train_data[\"LoanAmount\"].fillna(train_data[\"LoanAmount\"].mean(skipna=True), inplace=True)\n",
    "train_data['Loan_Amount_Term'].fillna(train_data['Loan_Amount_Term'].value_counts().idxmax(), inplace=True)\n",
    "train_data['Credit_History'].fillna(train_data['Credit_History'].value_counts().idxmax(), inplace=True)"
   ]
  },
  {
   "cell_type": "code",
   "execution_count": 32,
   "id": "191f3e42",
   "metadata": {},
   "outputs": [],
   "source": [
    "# Separate feature and target\n",
    "X = train_data.iloc[:,1:-1]\n",
    "y = train_data.iloc[:, -1]"
   ]
  },
  {
   "cell_type": "code",
   "execution_count": 33,
   "id": "3c3533ca",
   "metadata": {},
   "outputs": [
    {
     "data": {
      "text/html": [
       "<div>\n",
       "<style scoped>\n",
       "    .dataframe tbody tr th:only-of-type {\n",
       "        vertical-align: middle;\n",
       "    }\n",
       "\n",
       "    .dataframe tbody tr th {\n",
       "        vertical-align: top;\n",
       "    }\n",
       "\n",
       "    .dataframe thead th {\n",
       "        text-align: right;\n",
       "    }\n",
       "</style>\n",
       "<table border=\"1\" class=\"dataframe\">\n",
       "  <thead>\n",
       "    <tr style=\"text-align: right;\">\n",
       "      <th></th>\n",
       "      <th>Gender</th>\n",
       "      <th>Married</th>\n",
       "      <th>Dependents</th>\n",
       "      <th>Education</th>\n",
       "      <th>Self_Employed</th>\n",
       "      <th>ApplicantIncome</th>\n",
       "      <th>CoapplicantIncome</th>\n",
       "      <th>LoanAmount</th>\n",
       "      <th>Loan_Amount_Term</th>\n",
       "      <th>Credit_History</th>\n",
       "      <th>Property_Area</th>\n",
       "    </tr>\n",
       "  </thead>\n",
       "  <tbody>\n",
       "    <tr>\n",
       "      <th>0</th>\n",
       "      <td>0.0</td>\n",
       "      <td>0.0</td>\n",
       "      <td>0</td>\n",
       "      <td>1</td>\n",
       "      <td>0.0</td>\n",
       "      <td>5849</td>\n",
       "      <td>0.0</td>\n",
       "      <td>146.412162</td>\n",
       "      <td>360.0</td>\n",
       "      <td>1.0</td>\n",
       "      <td>0</td>\n",
       "    </tr>\n",
       "    <tr>\n",
       "      <th>1</th>\n",
       "      <td>0.0</td>\n",
       "      <td>1.0</td>\n",
       "      <td>1</td>\n",
       "      <td>1</td>\n",
       "      <td>0.0</td>\n",
       "      <td>4583</td>\n",
       "      <td>1508.0</td>\n",
       "      <td>128.000000</td>\n",
       "      <td>360.0</td>\n",
       "      <td>1.0</td>\n",
       "      <td>2</td>\n",
       "    </tr>\n",
       "    <tr>\n",
       "      <th>2</th>\n",
       "      <td>0.0</td>\n",
       "      <td>1.0</td>\n",
       "      <td>0</td>\n",
       "      <td>1</td>\n",
       "      <td>1.0</td>\n",
       "      <td>3000</td>\n",
       "      <td>0.0</td>\n",
       "      <td>66.000000</td>\n",
       "      <td>360.0</td>\n",
       "      <td>1.0</td>\n",
       "      <td>0</td>\n",
       "    </tr>\n",
       "    <tr>\n",
       "      <th>3</th>\n",
       "      <td>0.0</td>\n",
       "      <td>1.0</td>\n",
       "      <td>0</td>\n",
       "      <td>0</td>\n",
       "      <td>0.0</td>\n",
       "      <td>2583</td>\n",
       "      <td>2358.0</td>\n",
       "      <td>120.000000</td>\n",
       "      <td>360.0</td>\n",
       "      <td>1.0</td>\n",
       "      <td>0</td>\n",
       "    </tr>\n",
       "    <tr>\n",
       "      <th>4</th>\n",
       "      <td>0.0</td>\n",
       "      <td>0.0</td>\n",
       "      <td>0</td>\n",
       "      <td>1</td>\n",
       "      <td>0.0</td>\n",
       "      <td>6000</td>\n",
       "      <td>0.0</td>\n",
       "      <td>141.000000</td>\n",
       "      <td>360.0</td>\n",
       "      <td>1.0</td>\n",
       "      <td>0</td>\n",
       "    </tr>\n",
       "  </tbody>\n",
       "</table>\n",
       "</div>"
      ],
      "text/plain": [
       "   Gender  Married Dependents  Education  Self_Employed  ApplicantIncome  \\\n",
       "0     0.0      0.0          0          1            0.0             5849   \n",
       "1     0.0      1.0          1          1            0.0             4583   \n",
       "2     0.0      1.0          0          1            1.0             3000   \n",
       "3     0.0      1.0          0          0            0.0             2583   \n",
       "4     0.0      0.0          0          1            0.0             6000   \n",
       "\n",
       "   CoapplicantIncome  LoanAmount  Loan_Amount_Term  Credit_History  \\\n",
       "0                0.0  146.412162             360.0             1.0   \n",
       "1             1508.0  128.000000             360.0             1.0   \n",
       "2                0.0   66.000000             360.0             1.0   \n",
       "3             2358.0  120.000000             360.0             1.0   \n",
       "4                0.0  141.000000             360.0             1.0   \n",
       "\n",
       "   Property_Area  \n",
       "0              0  \n",
       "1              2  \n",
       "2              0  \n",
       "3              0  \n",
       "4              0  "
      ]
     },
     "execution_count": 33,
     "metadata": {},
     "output_type": "execute_result"
    }
   ],
   "source": [
    "# Split dataset into training set and test set\n",
    "X_train, X_test, y_train, y_test = train_test_split(X, y, test_size = 0.3, random_state = 100)\n",
    "X.head()"
   ]
  },
  {
   "cell_type": "code",
   "execution_count": 34,
   "id": "93936cc2",
   "metadata": {},
   "outputs": [
    {
     "data": {
      "text/plain": [
       "KNeighborsClassifier(n_neighbors=10)"
      ]
     },
     "execution_count": 34,
     "metadata": {},
     "output_type": "execute_result"
    }
   ],
   "source": [
    "knn = KNeighborsClassifier(n_neighbors=10)\n",
    "knn.fit(X_train, y_train)"
   ]
  },
  {
   "cell_type": "code",
   "execution_count": 50,
   "id": "bd0955ce",
   "metadata": {},
   "outputs": [],
   "source": [
    "y_pred = knn.predict(X_test)"
   ]
  },
  {
   "cell_type": "code",
   "execution_count": 51,
   "id": "7910c34e",
   "metadata": {},
   "outputs": [
    {
     "name": "stdout",
     "output_type": "stream",
     "text": [
      "Accuracy is 63.24%\n"
     ]
    }
   ],
   "source": [
    "# Model Accuracy\n",
    "knnAcc = knn.score(X_test, y_test)\n",
    "print(\"Accuracy is %.2f%%\" %(knnAcc*100))"
   ]
  },
  {
   "cell_type": "code",
   "execution_count": 54,
   "id": "74f3229e",
   "metadata": {},
   "outputs": [
    {
     "name": "stdout",
     "output_type": "stream",
     "text": [
      "Gender? \n",
      "Input 1 for Male and 0 for Female: 0\n",
      "If marrried? \n",
      "Input 1 for Yes and 0 for No: 0\n",
      "Dependents present? \n",
      "Input 1 or 2 or 3+ (in case of more than 3): 2\n",
      "Education level? \n",
      "Input 0 for Not Graduate and 1 for Graduate: 1\n",
      "Self employed? \n",
      "Input 1 for Yes and 0 for No: 0\n",
      "Enter Applicant Income: 40000\n",
      "Enter Co-Applicant Income: 1500\n",
      "Enter Loan Amount: 500000\n",
      "Enter Loan Amount Term: 4\n",
      "Enter Credit History: 1\n",
      "Enter Property Area: 1 for Urban and 0 for Rural: 1\n"
     ]
    },
    {
     "data": {
      "text/plain": [
       "['0', '0', '2', '1', '0', '40000', '1500', '500000', '4', '1', '1']"
      ]
     },
     "execution_count": 54,
     "metadata": {},
     "output_type": "execute_result"
    }
   ],
   "source": [
    "Gen = input(\"Gender? \\nInput 1 for Male and 0 for Female: \")\n",
    "Marr = input(\"If marrried? \\nInput 1 for Yes and 0 for No: \")\n",
    "Depen = input(\"Dependents present? \\nInput 1 or 2 or 3+ (in case of more than 3): \")\n",
    "Edu = input (\"Education level? \\nInput 0 for Not Graduate and 1 for Graduate: \")\n",
    "SelfEmp = input(\"Self employed? \\nInput 1 for Yes and 0 for No: \")\n",
    "AppInc = input(\"Enter Applicant Income: \")\n",
    "CoApInc = input(\"Enter Co-Applicant Income: \")\n",
    "LoAmt = input(\"Enter Loan Amount: \")\n",
    "LoAmtTerm = input(\"Enter Loan Amount Term: \")\n",
    "Crehis = input(\"Enter Credit History: \")\n",
    "PropAre = input(\"Enter Property Area: 1 for Urban and 0 for Rural: \")\n",
    "X_actual_values = [Gen, Marr, Depen, Edu, SelfEmp, AppInc, CoApInc, LoAmt, LoAmtTerm, Crehis, PropAre]\n",
    "X_actual_values"
   ]
  },
  {
   "cell_type": "code",
   "execution_count": 55,
   "id": "77365909",
   "metadata": {},
   "outputs": [
    {
     "name": "stdout",
     "output_type": "stream",
     "text": [
      "Should the person be given a loan? \n",
      "1 for Yes and 0 for No. \n",
      "As per KNN the answer is:  [1]\n"
     ]
    }
   ],
   "source": [
    "X_actual_values = np.array(X_actual_values).astype('int16')\n",
    "X_actual_values = X_actual_values.reshape(1,11)\n",
    "X_actual_values = pd.DataFrame(X_actual_values)\n",
    "X_actual_values.columns = (['Gender', 'Married', 'Dependents', 'Education', 'Self_Employed',\n",
    "'ApplicantIncome', 'CoapplicantIncome', 'LoanAmount',\n",
    "'Loan_Amount_Term', 'Credit_History', 'Property_Area'])\n",
    "y_actual_pred = knn.predict(X_actual_values)\n",
    "print('Should the person be given a loan? \\n1 for Yes and 0 for No. \\nAs per KNN the answer is: ', y_actual_pred)"
   ]
  },
  {
   "cell_type": "code",
   "execution_count": 56,
   "id": "c6b79086",
   "metadata": {},
   "outputs": [],
   "source": [
    "# Separate feature and target\n",
    "X = train_data.iloc[:,1:-1]\n",
    "y = train_data.iloc[:, -1]"
   ]
  },
  {
   "cell_type": "code",
   "execution_count": 57,
   "id": "25a62db2",
   "metadata": {},
   "outputs": [],
   "source": [
    "# Split dataset into training set and test set\n",
    "X_train, X_test, y_train, y_test = train_test_split(X, y, test_size = 0.3, random_state = 1) # 70% training and 30% test"
   ]
  },
  {
   "cell_type": "code",
   "execution_count": 58,
   "id": "941e58e9",
   "metadata": {},
   "outputs": [],
   "source": [
    "# Create Decision Tree classifer object\n",
    "clf = DecisionTreeClassifier(max_depth=4)\n",
    "\n",
    "# Train Decision Tree Classifer\n",
    "clf = clf.fit(X_train, y_train)\n",
    "\n",
    "# Predict the response for test dataset\n",
    "y_pred = clf.predict(X_test)"
   ]
  },
  {
   "cell_type": "code",
   "execution_count": 59,
   "id": "4b9d8199",
   "metadata": {},
   "outputs": [
    {
     "name": "stdout",
     "output_type": "stream",
     "text": [
      "Accuracy is 78.38%\n"
     ]
    }
   ],
   "source": [
    "# Model Accuracy\n",
    "dtAcc = metrics.accuracy_score(y_test, y_pred)\n",
    "print(\"Accuracy is %.2f%%\" %(dtAcc*100))"
   ]
  },
  {
   "cell_type": "code",
   "execution_count": 60,
   "id": "55f48e39",
   "metadata": {},
   "outputs": [
    {
     "name": "stdout",
     "output_type": "stream",
     "text": [
      "[[ 25  36]\n",
      " [  4 120]]\n"
     ]
    }
   ],
   "source": [
    "print(confusion_matrix(y_test, y_pred))"
   ]
  },
  {
   "cell_type": "code",
   "execution_count": 61,
   "id": "99b1f013",
   "metadata": {},
   "outputs": [
    {
     "data": {
      "text/plain": [
       "0.8571428571428572"
      ]
     },
     "execution_count": 61,
     "metadata": {},
     "output_type": "execute_result"
    }
   ],
   "source": [
    "f1_score(y_test, y_pred)"
   ]
  },
  {
   "cell_type": "code",
   "execution_count": 62,
   "id": "f31cd908",
   "metadata": {},
   "outputs": [
    {
     "name": "stdout",
     "output_type": "stream",
     "text": [
      "              precision    recall  f1-score   support\n",
      "\n",
      "           0       0.86      0.41      0.56        61\n",
      "           1       0.77      0.97      0.86       124\n",
      "\n",
      "    accuracy                           0.78       185\n",
      "   macro avg       0.82      0.69      0.71       185\n",
      "weighted avg       0.80      0.78      0.76       185\n",
      "\n"
     ]
    }
   ],
   "source": [
    "print(classification_report(y_test, y_pred))"
   ]
  },
  {
   "cell_type": "code",
   "execution_count": 64,
   "id": "cd41be9c",
   "metadata": {},
   "outputs": [
    {
     "name": "stdout",
     "output_type": "stream",
     "text": [
      "Decision Tree Classifier is better than KNN Classifier with an accuracy score of 78.38%\n"
     ]
    }
   ],
   "source": [
    "# Comparison between KNN & Decision Tree Classifier\n",
    "if(dtAcc > knnAcc):\n",
    "    {print('Decision Tree Classifier is better than KNN Classifier with an accuracy score of %.2f%%' %(dtAcc*100))}\n",
    "else:\n",
    "    {print('KNN Classifier is better than Decision Tree Classifier with an accuracy score of %.2f%%' %(knnAcc*100))}"
   ]
  }
 ],
 "metadata": {
  "kernelspec": {
   "display_name": "Python 3 (ipykernel)",
   "language": "python",
   "name": "python3"
  },
  "language_info": {
   "codemirror_mode": {
    "name": "ipython",
    "version": 3
   },
   "file_extension": ".py",
   "mimetype": "text/x-python",
   "name": "python",
   "nbconvert_exporter": "python",
   "pygments_lexer": "ipython3",
   "version": "3.10.2"
  }
 },
 "nbformat": 4,
 "nbformat_minor": 5
}
